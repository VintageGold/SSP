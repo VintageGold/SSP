{
 "cells": [
  {
   "cell_type": "code",
   "execution_count": 4,
   "metadata": {},
   "outputs": [],
   "source": [
    "import requests #Connect to endpoints\n",
    "import time #time script\n",
    "import sys\n",
    "import csv\n",
    "import pandas as pd\n",
    "import spotipy #authentication\n",
    "import spotipy.util as util #authentication\n",
    "\n",
    "from spotipy.oauth2 import SpotifyClientCredentials #authentication"
   ]
  },
  {
   "cell_type": "code",
   "execution_count": 5,
   "metadata": {},
   "outputs": [],
   "source": [
    "#Credentials\n",
    "cid = 'f61689bf814a44dab11d7e63d18dc38a'\n",
    "secret = '7d2c54296b204a20b26b1c7eb5a93601'\n",
    "redirect_uri = 'http://google.com/'\n",
    "username = '31tabw4566sgjjakrw5afmpspdv4'"
   ]
  },
  {
   "cell_type": "code",
   "execution_count": 6,
   "metadata": {},
   "outputs": [
    {
     "name": "stdout",
     "output_type": "stream",
     "text": [
      "\n",
      "\n",
      "            User authentication requires interaction with your\n",
      "            web browser. Once you enter your credentials and\n",
      "            give authorization, you will be redirected to\n",
      "            a url.  Paste that url you were directed to to\n",
      "            complete the authorization.\n",
      "\n",
      "        \n",
      "Opened https://accounts.spotify.com/authorize?client_id=f61689bf814a44dab11d7e63d18dc38a&response_type=code&redirect_uri=http%3A%2F%2Fgoogle.com%2F&scope=user-library-read in your browser\n",
      "\n",
      "\n",
      "Enter the URL you were redirected to: https://www.google.com/?code=AQC87xV2_IcEa-GDGzK5WtnVkQx-aD2gE2xfQLSMLCGeyA2YcqAEjo8u1ore5gja9t49DeIB4PnfqrHYB125r7E7lEmWkMvWCp9aeawU9iJ7uspTpFBGUQn_rA3V2xuG08AfkWS7ZL6tKUUjNJZSmppLGIwV0h5__WVrMn7wdZScNahs9XMTk67jVYHipOTUYFiuLe1Z3EgHUT0\n",
      "\n",
      "\n"
     ]
    }
   ],
   "source": [
    "#Authentication\n",
    "scope = 'user-library-read'\n",
    "token = util.prompt_for_user_token(username, scope, client_id=cid, client_secret=secret, redirect_uri=redirect_uri)\n",
    "\n",
    "if token:\n",
    "    sp = spotipy.Spotify(auth=token)\n",
    "else:\n",
    "    print(\"Can't get token for\", username)"
   ]
  },
  {
   "cell_type": "code",
   "execution_count": 11,
   "metadata": {},
   "outputs": [],
   "source": [
    "#all features and keys should be lowercase with underscore instead of spaces\n",
    "def get_audiofeatures(url,track_uri,show=True):\n",
    "    features = ['danceability','energy','key','loudness','mode','speechiness','acousticness','instrumentalness',\n",
    "                'liveness','valence','tempo','time_signature']\n",
    "    \n",
    "    #dictionary \n",
    "    audiofeatures = {}\n",
    "    \n",
    "    #get url\n",
    "    try:\n",
    "        resp = requests.get(url=url,\n",
    "                            headers={'Authorization': 'Bearer '+ token})\n",
    "        resp.raise_for_status()\n",
    "    except requests.exceptions.HTTPError as err:\n",
    "        print(err)\n",
    "        \n",
    "    #response in json format\n",
    "    response = resp.json()\n",
    "    \n",
    "    audiofeatures.update({'track_uri':track_uri})\n",
    "    \n",
    "\n",
    "    for track_feature in features:\n",
    "        feature_value = response[track_feature]\n",
    "        audiofeatures.update({track_feature:feature_value}) #ties track_uri and features\n",
    "    \n",
    "    if show:\n",
    "        print('URI: {uri} - AudioFeatures: {af}'.format(uri=track_uri,af=audiofeatures))\n",
    "    \n",
    "    return audiofeatures          "
   ]
  },
  {
   "cell_type": "code",
   "execution_count": 18,
   "metadata": {},
   "outputs": [
    {
     "name": "stdout",
     "output_type": "stream",
     "text": [
      "0 ['3bBWKHfpepPOychRNFzg4q']\n",
      "URI: 7cVA2h2HRlE2mOxhXEmtro - AudioFeatures: {'track_uri': '7cVA2h2HRlE2mOxhXEmtro', 'danceability': 0.503, 'energy': 0.656, 'key': 2, 'loudness': -4.768, 'mode': 1, 'speechiness': 0.0315, 'acousticness': 0.236, 'instrumentalness': 0.836, 'liveness': 0.355, 'valence': 0.472, 'tempo': 130.073, 'time_signature': 4}\n",
      "1 ['3bBWKHfpepPOychRNFzg4q']\n",
      "URI: 5N6IdYnIYaATgQKHg9CZJP - AudioFeatures: {'track_uri': '5N6IdYnIYaATgQKHg9CZJP', 'danceability': 0.258, 'energy': 0.54, 'key': 0, 'loudness': -6.73, 'mode': 1, 'speechiness': 0.0288, 'acousticness': 0.22, 'instrumentalness': 0.789, 'liveness': 0.0754, 'valence': 0.436, 'tempo': 83.048, 'time_signature': 4}\n",
      "2 ['3bBWKHfpepPOychRNFzg4q']\n",
      "URI: 2Fz3MpPkiUPEH6d4Heuipp - AudioFeatures: {'track_uri': '2Fz3MpPkiUPEH6d4Heuipp', 'danceability': 0.595, 'energy': 0.634, 'key': 7, 'loudness': -7.057, 'mode': 1, 'speechiness': 0.0303, 'acousticness': 0.783, 'instrumentalness': 0.747, 'liveness': 0.0989, 'valence': 0.489, 'tempo': 108.009, 'time_signature': 4}\n",
      "3 ['3bBWKHfpepPOychRNFzg4q']\n",
      "URI: 4yDo6bylEHQMbAaXLKSvwl - AudioFeatures: {'track_uri': '4yDo6bylEHQMbAaXLKSvwl', 'danceability': 0.334, 'energy': 0.744, 'key': 2, 'loudness': -5.317, 'mode': 1, 'speechiness': 0.037, 'acousticness': 0.576, 'instrumentalness': 0.771, 'liveness': 0.086, 'valence': 0.639, 'tempo': 169.865, 'time_signature': 3}\n"
     ]
    }
   ],
   "source": [
    "i = 0\n",
    "master_track_audiofeatures=[]\n",
    "\n",
    "start = time.time()\n",
    "\n",
    "#Open file\n",
    "with open('Data/artist_album_track_uri.csv') as csvfile:\n",
    "    file = csv.reader(csvfile, delimiter='|')\n",
    "    \n",
    "    next(file) # Skip header\n",
    "    head = [next(file) for x in range(4)] #for limiting amount of rows read\n",
    "    \n",
    "    for row in head:\n",
    "        line = row[0].split('|') # list of items\n",
    "        track_uri = row[3] #getting 1 item of the list\n",
    "        print(i,line) \n",
    "        \n",
    "        track_audiofeatures = get_audiofeatures('https://api.spotify.com/v1/audio-features/{id}'.format(id=track_uri),track_uri)\n",
    "                                                \n",
    "        #Is a list of the track_audiofeatures dictionary for each track_uri in file\n",
    "        master_track_audiofeatures.append(track_audiofeatures)\n",
    "        i+=1\n",
    "stop = time.time()\n",
    "duration = (stop - start)/60"
   ]
  },
  {
   "cell_type": "code",
   "execution_count": 19,
   "metadata": {},
   "outputs": [
    {
     "data": {
      "text/plain": [
       "[{'track_uri': '7cVA2h2HRlE2mOxhXEmtro',\n",
       "  'danceability': 0.503,\n",
       "  'energy': 0.656,\n",
       "  'key': 2,\n",
       "  'loudness': -4.768,\n",
       "  'mode': 1,\n",
       "  'speechiness': 0.0315,\n",
       "  'acousticness': 0.236,\n",
       "  'instrumentalness': 0.836,\n",
       "  'liveness': 0.355,\n",
       "  'valence': 0.472,\n",
       "  'tempo': 130.073,\n",
       "  'time_signature': 4},\n",
       " {'track_uri': '5N6IdYnIYaATgQKHg9CZJP',\n",
       "  'danceability': 0.258,\n",
       "  'energy': 0.54,\n",
       "  'key': 0,\n",
       "  'loudness': -6.73,\n",
       "  'mode': 1,\n",
       "  'speechiness': 0.0288,\n",
       "  'acousticness': 0.22,\n",
       "  'instrumentalness': 0.789,\n",
       "  'liveness': 0.0754,\n",
       "  'valence': 0.436,\n",
       "  'tempo': 83.048,\n",
       "  'time_signature': 4},\n",
       " {'track_uri': '2Fz3MpPkiUPEH6d4Heuipp',\n",
       "  'danceability': 0.595,\n",
       "  'energy': 0.634,\n",
       "  'key': 7,\n",
       "  'loudness': -7.057,\n",
       "  'mode': 1,\n",
       "  'speechiness': 0.0303,\n",
       "  'acousticness': 0.783,\n",
       "  'instrumentalness': 0.747,\n",
       "  'liveness': 0.0989,\n",
       "  'valence': 0.489,\n",
       "  'tempo': 108.009,\n",
       "  'time_signature': 4},\n",
       " {'track_uri': '4yDo6bylEHQMbAaXLKSvwl',\n",
       "  'danceability': 0.334,\n",
       "  'energy': 0.744,\n",
       "  'key': 2,\n",
       "  'loudness': -5.317,\n",
       "  'mode': 1,\n",
       "  'speechiness': 0.037,\n",
       "  'acousticness': 0.576,\n",
       "  'instrumentalness': 0.771,\n",
       "  'liveness': 0.086,\n",
       "  'valence': 0.639,\n",
       "  'tempo': 169.865,\n",
       "  'time_signature': 3}]"
      ]
     },
     "execution_count": 19,
     "metadata": {},
     "output_type": "execute_result"
    }
   ],
   "source": [
    "master_track_audiofeatures"
   ]
  },
  {
   "cell_type": "code",
   "execution_count": 20,
   "metadata": {},
   "outputs": [
    {
     "data": {
      "text/plain": [
       "'0.006715035438537598 minutes'"
      ]
     },
     "execution_count": 20,
     "metadata": {},
     "output_type": "execute_result"
    }
   ],
   "source": [
    "#Duration of script\n",
    "str(duration)+' minutes'"
   ]
  },
  {
   "cell_type": "code",
   "execution_count": 21,
   "metadata": {},
   "outputs": [
    {
     "data": {
      "text/html": [
       "<div>\n",
       "<style scoped>\n",
       "    .dataframe tbody tr th:only-of-type {\n",
       "        vertical-align: middle;\n",
       "    }\n",
       "\n",
       "    .dataframe tbody tr th {\n",
       "        vertical-align: top;\n",
       "    }\n",
       "\n",
       "    .dataframe thead th {\n",
       "        text-align: right;\n",
       "    }\n",
       "</style>\n",
       "<table border=\"1\" class=\"dataframe\">\n",
       "  <thead>\n",
       "    <tr style=\"text-align: right;\">\n",
       "      <th></th>\n",
       "      <th>track_uri</th>\n",
       "      <th>danceability</th>\n",
       "      <th>energy</th>\n",
       "      <th>key</th>\n",
       "      <th>loudness</th>\n",
       "      <th>mode</th>\n",
       "      <th>speechiness</th>\n",
       "      <th>acousticness</th>\n",
       "      <th>instrumentalness</th>\n",
       "      <th>liveness</th>\n",
       "      <th>valence</th>\n",
       "      <th>tempo</th>\n",
       "      <th>time_signature</th>\n",
       "    </tr>\n",
       "  </thead>\n",
       "  <tbody>\n",
       "    <tr>\n",
       "      <th>0</th>\n",
       "      <td>7cVA2h2HRlE2mOxhXEmtro</td>\n",
       "      <td>0.503</td>\n",
       "      <td>0.656</td>\n",
       "      <td>2</td>\n",
       "      <td>-4.768</td>\n",
       "      <td>1</td>\n",
       "      <td>0.0315</td>\n",
       "      <td>0.236</td>\n",
       "      <td>0.836</td>\n",
       "      <td>0.3550</td>\n",
       "      <td>0.472</td>\n",
       "      <td>130.073</td>\n",
       "      <td>4</td>\n",
       "    </tr>\n",
       "    <tr>\n",
       "      <th>1</th>\n",
       "      <td>5N6IdYnIYaATgQKHg9CZJP</td>\n",
       "      <td>0.258</td>\n",
       "      <td>0.540</td>\n",
       "      <td>0</td>\n",
       "      <td>-6.730</td>\n",
       "      <td>1</td>\n",
       "      <td>0.0288</td>\n",
       "      <td>0.220</td>\n",
       "      <td>0.789</td>\n",
       "      <td>0.0754</td>\n",
       "      <td>0.436</td>\n",
       "      <td>83.048</td>\n",
       "      <td>4</td>\n",
       "    </tr>\n",
       "    <tr>\n",
       "      <th>2</th>\n",
       "      <td>2Fz3MpPkiUPEH6d4Heuipp</td>\n",
       "      <td>0.595</td>\n",
       "      <td>0.634</td>\n",
       "      <td>7</td>\n",
       "      <td>-7.057</td>\n",
       "      <td>1</td>\n",
       "      <td>0.0303</td>\n",
       "      <td>0.783</td>\n",
       "      <td>0.747</td>\n",
       "      <td>0.0989</td>\n",
       "      <td>0.489</td>\n",
       "      <td>108.009</td>\n",
       "      <td>4</td>\n",
       "    </tr>\n",
       "    <tr>\n",
       "      <th>3</th>\n",
       "      <td>4yDo6bylEHQMbAaXLKSvwl</td>\n",
       "      <td>0.334</td>\n",
       "      <td>0.744</td>\n",
       "      <td>2</td>\n",
       "      <td>-5.317</td>\n",
       "      <td>1</td>\n",
       "      <td>0.0370</td>\n",
       "      <td>0.576</td>\n",
       "      <td>0.771</td>\n",
       "      <td>0.0860</td>\n",
       "      <td>0.639</td>\n",
       "      <td>169.865</td>\n",
       "      <td>3</td>\n",
       "    </tr>\n",
       "  </tbody>\n",
       "</table>\n",
       "</div>"
      ],
      "text/plain": [
       "                track_uri  danceability  energy  key  loudness  mode  \\\n",
       "0  7cVA2h2HRlE2mOxhXEmtro         0.503   0.656    2    -4.768     1   \n",
       "1  5N6IdYnIYaATgQKHg9CZJP         0.258   0.540    0    -6.730     1   \n",
       "2  2Fz3MpPkiUPEH6d4Heuipp         0.595   0.634    7    -7.057     1   \n",
       "3  4yDo6bylEHQMbAaXLKSvwl         0.334   0.744    2    -5.317     1   \n",
       "\n",
       "   speechiness  acousticness  instrumentalness  liveness  valence    tempo  \\\n",
       "0       0.0315         0.236             0.836    0.3550    0.472  130.073   \n",
       "1       0.0288         0.220             0.789    0.0754    0.436   83.048   \n",
       "2       0.0303         0.783             0.747    0.0989    0.489  108.009   \n",
       "3       0.0370         0.576             0.771    0.0860    0.639  169.865   \n",
       "\n",
       "   time_signature  \n",
       "0               4  \n",
       "1               4  \n",
       "2               4  \n",
       "3               3  "
      ]
     },
     "execution_count": 21,
     "metadata": {},
     "output_type": "execute_result"
    }
   ],
   "source": [
    "df = pd.DataFrame(master_track_audiofeatures)\n",
    "df\n",
    "#no_duplicates = df.drop_duplicates(['Album URI']) *Change to find duplicates of track_uri\n",
    "#no_duplicates\n",
    "#no_duplicates.to_csv('Data/artist_album_uri.csv',sep='|',index=False)"
   ]
  },
  {
   "cell_type": "code",
   "execution_count": null,
   "metadata": {},
   "outputs": [],
   "source": [
    "#This should be the output\n",
    "\n",
    "#df = pd.DataFrame(master_track_audiofeatures)\n",
    "#df\n",
    "#no_duplicates = df.drop_duplicates(['Album URI']) *Change to find duplicates of track_uri\n",
    "#no_duplicates\n",
    "#no_duplicates.to_csv('Data/artist_album_uri.csv',sep='|',index=False)"
   ]
  }
 ],
 "metadata": {
  "kernelspec": {
   "display_name": "Python 3",
   "language": "python",
   "name": "python3"
  },
  "language_info": {
   "codemirror_mode": {
    "name": "ipython",
    "version": 3
   },
   "file_extension": ".py",
   "mimetype": "text/x-python",
   "name": "python",
   "nbconvert_exporter": "python",
   "pygments_lexer": "ipython3",
   "version": "3.8.2"
  }
 },
 "nbformat": 4,
 "nbformat_minor": 2
}
