{
 "cells": [
  {
   "cell_type": "code",
   "execution_count": 1,
   "metadata": {},
   "outputs": [],
   "source": [
    "import requests #Connect to endpoints\n",
    "import time #time script\n",
    "import sys\n",
    "import csv\n",
    "import pandas as pd\n",
    "import spotipy #authentication\n",
    "import spotipy.util as util #authentication\n",
    "\n",
    "from spotipy.oauth2 import SpotifyClientCredentials #authentication"
   ]
  },
  {
   "cell_type": "code",
   "execution_count": 2,
   "metadata": {},
   "outputs": [],
   "source": [
    "#Credentials\n",
    "cid = 'f61689bf814a44dab11d7e63d18dc38a'\n",
    "secret = 'xxx'\n",
    "redirect_uri = 'http://google.com/'\n",
    "username = 'xxx'"
   ]
  },
  {
   "cell_type": "code",
   "execution_count": 3,
   "metadata": {},
   "outputs": [],
   "source": [
    "#Authentication\n",
    "scope = 'user-library-read'\n",
    "token = util.prompt_for_user_token(username, scope, client_id=cid, client_secret=secret, redirect_uri=redirect_uri)\n",
    "\n",
    "if token:\n",
    "    sp = spotipy.Spotify(auth=token)\n",
    "else:\n",
    "    print(\"Can't get token for\", username)"
   ]
  },
  {
   "cell_type": "code",
   "execution_count": 4,
   "metadata": {},
   "outputs": [],
   "source": [
    "#all features and keys should be lowercase with underscore instead of spaces\n",
    "def get_audiofeatures(url,track_uri,show=True):\n",
    "    features = ['danceability','energy','key','loudness','mode','speechiness','acousticness','instrumentalness',\n",
    "                'liveness','valence','tempo','time_signature']\n",
    "    \n",
    "    #dictionary \n",
    "    audiofeatures = {}\n",
    "    \n",
    "    #get url\n",
    "    try:\n",
    "        resp = requests.get(url=url,\n",
    "                            headers={'Authorization': 'Bearer '+ token})\n",
    "        resp.raise_for_status()\n",
    "    except requests.exceptions.HTTPError as err:\n",
    "        print(err)\n",
    "        \n",
    "    #response in json format\n",
    "    response = resp.json()\n",
    "    \n",
    "    audiofeatures.update({'track_uri':track_uri})\n",
    "    \n",
    "\n",
    "    for track_feature in features:\n",
    "        feature_value = response[track_feature]\n",
    "        audiofeatures.update({track_feature:feature_value}) #ties track_uri and features\n",
    "    \n",
    "    if show:\n",
    "        print('URI: {uri} - AudioFeatures: {af}'.format(uri=track_uri,af=audiofeatures))\n",
    "    \n",
    "    return audiofeatures          "
   ]
  },
  {
   "cell_type": "code",
   "execution_count": 5,
   "metadata": {},
   "outputs": [
    {
     "name": "stdout",
     "output_type": "stream",
     "text": [
      "0 ['spotify', 'track', '4bKlOuzNlpMnlnUhCvnuY8']\n",
      "URI: 4bKlOuzNlpMnlnUhCvnuY8 - AudioFeatures: {'track_uri': '4bKlOuzNlpMnlnUhCvnuY8', 'danceability': 0.395, 'energy': 0.958, 'key': 1, 'loudness': -4.482, 'mode': 0, 'speechiness': 0.325, 'acousticness': 0.00928, 'instrumentalness': 0.108, 'liveness': 0.166, 'valence': 0.269, 'tempo': 74.974, 'time_signature': 4}\n",
      "1 ['spotify', 'track', '6p2liQLGoDaLXgND68bfVt']\n",
      "URI: 6p2liQLGoDaLXgND68bfVt - AudioFeatures: {'track_uri': '6p2liQLGoDaLXgND68bfVt', 'danceability': 0.687, 'energy': 0.677, 'key': 2, 'loudness': -4.172, 'mode': 1, 'speechiness': 0.0508, 'acousticness': 0.000658, 'instrumentalness': 0.000146, 'liveness': 0.0564, 'valence': 0.546, 'tempo': 75.052, 'time_signature': 4}\n",
      "2 ['spotify', 'track', '0MsrWnxQZxPAcov7c74sSo']\n",
      "URI: 0MsrWnxQZxPAcov7c74sSo - AudioFeatures: {'track_uri': '0MsrWnxQZxPAcov7c74sSo', 'danceability': 0.29, 'energy': 0.827, 'key': 8, 'loudness': -3.451, 'mode': 1, 'speechiness': 0.0362, 'acousticness': 0.000659, 'instrumentalness': 2.55e-06, 'liveness': 0.301, 'valence': 0.45, 'tempo': 167.086, 'time_signature': 4}\n",
      "3 ['spotify', 'track', '18wCJcoFmXZ0jfrFhF6cYS']\n",
      "URI: 18wCJcoFmXZ0jfrFhF6cYS - AudioFeatures: {'track_uri': '18wCJcoFmXZ0jfrFhF6cYS', 'danceability': 0.46, 'energy': 0.426, 'key': 0, 'loudness': -7.286, 'mode': 0, 'speechiness': 0.218, 'acousticness': 0.232, 'instrumentalness': 0.0754, 'liveness': 0.0847, 'valence': 0.432, 'tempo': 88.802, 'time_signature': 4}\n"
     ]
    }
   ],
   "source": [
    "i = 0\n",
    "master_track_audiofeatures=[]\n",
    "\n",
    "start = time.time()\n",
    "\n",
    "#Open file\n",
    "with open('Data/user_track_uri.csv') as csvfile:\n",
    "    file = csv.reader(csvfile, delimiter='|')\n",
    "    \n",
    "    next(file) # Skip header\n",
    "    head = [next(file) for x in range(4)] #for limiting amount of rows read\n",
    "    \n",
    "    for row in head:\n",
    "        line = row[0].split(':') # list of items\n",
    "        track_uri = line[2] #getting 1 item of the list\n",
    "        print(i,line) \n",
    "        \n",
    "        track_audiofeatures = get_audiofeatures('https://api.spotify.com/v1/audio-features/{id}'.format(id=track_uri),track_uri)\n",
    "                                                \n",
    "        #Is a list of the track_audiofeatures dictionary for each track_uri in file\n",
    "        master_track_audiofeatures.append(track_audiofeatures)\n",
    "        i+=1\n",
    "stop = time.time()\n",
    "duration = (stop - start)/60"
   ]
  },
  {
   "cell_type": "code",
   "execution_count": 6,
   "metadata": {},
   "outputs": [
    {
     "data": {
      "text/plain": [
       "[{'track_uri': '4bKlOuzNlpMnlnUhCvnuY8',\n",
       "  'danceability': 0.395,\n",
       "  'energy': 0.958,\n",
       "  'key': 1,\n",
       "  'loudness': -4.482,\n",
       "  'mode': 0,\n",
       "  'speechiness': 0.325,\n",
       "  'acousticness': 0.00928,\n",
       "  'instrumentalness': 0.108,\n",
       "  'liveness': 0.166,\n",
       "  'valence': 0.269,\n",
       "  'tempo': 74.974,\n",
       "  'time_signature': 4},\n",
       " {'track_uri': '6p2liQLGoDaLXgND68bfVt',\n",
       "  'danceability': 0.687,\n",
       "  'energy': 0.677,\n",
       "  'key': 2,\n",
       "  'loudness': -4.172,\n",
       "  'mode': 1,\n",
       "  'speechiness': 0.0508,\n",
       "  'acousticness': 0.000658,\n",
       "  'instrumentalness': 0.000146,\n",
       "  'liveness': 0.0564,\n",
       "  'valence': 0.546,\n",
       "  'tempo': 75.052,\n",
       "  'time_signature': 4},\n",
       " {'track_uri': '0MsrWnxQZxPAcov7c74sSo',\n",
       "  'danceability': 0.29,\n",
       "  'energy': 0.827,\n",
       "  'key': 8,\n",
       "  'loudness': -3.451,\n",
       "  'mode': 1,\n",
       "  'speechiness': 0.0362,\n",
       "  'acousticness': 0.000659,\n",
       "  'instrumentalness': 2.55e-06,\n",
       "  'liveness': 0.301,\n",
       "  'valence': 0.45,\n",
       "  'tempo': 167.086,\n",
       "  'time_signature': 4},\n",
       " {'track_uri': '18wCJcoFmXZ0jfrFhF6cYS',\n",
       "  'danceability': 0.46,\n",
       "  'energy': 0.426,\n",
       "  'key': 0,\n",
       "  'loudness': -7.286,\n",
       "  'mode': 0,\n",
       "  'speechiness': 0.218,\n",
       "  'acousticness': 0.232,\n",
       "  'instrumentalness': 0.0754,\n",
       "  'liveness': 0.0847,\n",
       "  'valence': 0.432,\n",
       "  'tempo': 88.802,\n",
       "  'time_signature': 4}]"
      ]
     },
     "execution_count": 6,
     "metadata": {},
     "output_type": "execute_result"
    }
   ],
   "source": [
    "master_track_audiofeatures"
   ]
  },
  {
   "cell_type": "code",
   "execution_count": 7,
   "metadata": {},
   "outputs": [
    {
     "data": {
      "text/plain": [
       "'0.02115054925282796 minutes'"
      ]
     },
     "execution_count": 7,
     "metadata": {},
     "output_type": "execute_result"
    }
   ],
   "source": [
    "#Duration of script\n",
    "str(duration)+' minutes'"
   ]
  },
  {
   "cell_type": "code",
   "execution_count": 8,
   "metadata": {},
   "outputs": [
    {
     "data": {
      "text/html": [
       "<div>\n",
       "<style scoped>\n",
       "    .dataframe tbody tr th:only-of-type {\n",
       "        vertical-align: middle;\n",
       "    }\n",
       "\n",
       "    .dataframe tbody tr th {\n",
       "        vertical-align: top;\n",
       "    }\n",
       "\n",
       "    .dataframe thead th {\n",
       "        text-align: right;\n",
       "    }\n",
       "</style>\n",
       "<table border=\"1\" class=\"dataframe\">\n",
       "  <thead>\n",
       "    <tr style=\"text-align: right;\">\n",
       "      <th></th>\n",
       "      <th>track_uri</th>\n",
       "      <th>danceability</th>\n",
       "      <th>energy</th>\n",
       "      <th>key</th>\n",
       "      <th>loudness</th>\n",
       "      <th>mode</th>\n",
       "      <th>speechiness</th>\n",
       "      <th>acousticness</th>\n",
       "      <th>instrumentalness</th>\n",
       "      <th>liveness</th>\n",
       "      <th>valence</th>\n",
       "      <th>tempo</th>\n",
       "      <th>time_signature</th>\n",
       "    </tr>\n",
       "  </thead>\n",
       "  <tbody>\n",
       "    <tr>\n",
       "      <th>0</th>\n",
       "      <td>4bKlOuzNlpMnlnUhCvnuY8</td>\n",
       "      <td>0.395</td>\n",
       "      <td>0.958</td>\n",
       "      <td>1</td>\n",
       "      <td>-4.482</td>\n",
       "      <td>0</td>\n",
       "      <td>0.3250</td>\n",
       "      <td>0.009280</td>\n",
       "      <td>0.108000</td>\n",
       "      <td>0.1660</td>\n",
       "      <td>0.269</td>\n",
       "      <td>74.974</td>\n",
       "      <td>4</td>\n",
       "    </tr>\n",
       "    <tr>\n",
       "      <th>1</th>\n",
       "      <td>6p2liQLGoDaLXgND68bfVt</td>\n",
       "      <td>0.687</td>\n",
       "      <td>0.677</td>\n",
       "      <td>2</td>\n",
       "      <td>-4.172</td>\n",
       "      <td>1</td>\n",
       "      <td>0.0508</td>\n",
       "      <td>0.000658</td>\n",
       "      <td>0.000146</td>\n",
       "      <td>0.0564</td>\n",
       "      <td>0.546</td>\n",
       "      <td>75.052</td>\n",
       "      <td>4</td>\n",
       "    </tr>\n",
       "    <tr>\n",
       "      <th>2</th>\n",
       "      <td>0MsrWnxQZxPAcov7c74sSo</td>\n",
       "      <td>0.290</td>\n",
       "      <td>0.827</td>\n",
       "      <td>8</td>\n",
       "      <td>-3.451</td>\n",
       "      <td>1</td>\n",
       "      <td>0.0362</td>\n",
       "      <td>0.000659</td>\n",
       "      <td>0.000003</td>\n",
       "      <td>0.3010</td>\n",
       "      <td>0.450</td>\n",
       "      <td>167.086</td>\n",
       "      <td>4</td>\n",
       "    </tr>\n",
       "    <tr>\n",
       "      <th>3</th>\n",
       "      <td>18wCJcoFmXZ0jfrFhF6cYS</td>\n",
       "      <td>0.460</td>\n",
       "      <td>0.426</td>\n",
       "      <td>0</td>\n",
       "      <td>-7.286</td>\n",
       "      <td>0</td>\n",
       "      <td>0.2180</td>\n",
       "      <td>0.232000</td>\n",
       "      <td>0.075400</td>\n",
       "      <td>0.0847</td>\n",
       "      <td>0.432</td>\n",
       "      <td>88.802</td>\n",
       "      <td>4</td>\n",
       "    </tr>\n",
       "  </tbody>\n",
       "</table>\n",
       "</div>"
      ],
      "text/plain": [
       "                track_uri  danceability  energy  key  loudness  mode  \\\n",
       "0  4bKlOuzNlpMnlnUhCvnuY8         0.395   0.958    1    -4.482     0   \n",
       "1  6p2liQLGoDaLXgND68bfVt         0.687   0.677    2    -4.172     1   \n",
       "2  0MsrWnxQZxPAcov7c74sSo         0.290   0.827    8    -3.451     1   \n",
       "3  18wCJcoFmXZ0jfrFhF6cYS         0.460   0.426    0    -7.286     0   \n",
       "\n",
       "   speechiness  acousticness  instrumentalness  liveness  valence    tempo  \\\n",
       "0       0.3250      0.009280          0.108000    0.1660    0.269   74.974   \n",
       "1       0.0508      0.000658          0.000146    0.0564    0.546   75.052   \n",
       "2       0.0362      0.000659          0.000003    0.3010    0.450  167.086   \n",
       "3       0.2180      0.232000          0.075400    0.0847    0.432   88.802   \n",
       "\n",
       "   time_signature  \n",
       "0               4  \n",
       "1               4  \n",
       "2               4  \n",
       "3               4  "
      ]
     },
     "execution_count": 8,
     "metadata": {},
     "output_type": "execute_result"
    }
   ],
   "source": [
    "df = pd.DataFrame(master_track_audiofeatures)\n",
    "df\n",
    "#no_duplicates = df.drop_duplicates(['Album URI']) *Change to find duplicates of track_uri\n",
    "#no_duplicates\n",
    "#no_duplicates.to_csv('Data/artist_album_uri.csv',sep='|',index=False)"
   ]
  },
  {
   "cell_type": "code",
   "execution_count": null,
   "metadata": {},
   "outputs": [],
   "source": [
    "#This should be the output\n",
    "\n",
    "#df = pd.DataFrame(master_track_audiofeatures)\n",
    "#df\n",
    "#no_duplicates = df.drop_duplicates(['Album URI']) *Change to find duplicates of track_uri\n",
    "#no_duplicates\n",
    "#no_duplicates.to_csv('Data/artist_album_uri.csv',sep='|',index=False)"
   ]
  },
  {
   "cell_type": "code",
   "execution_count": null,
   "metadata": {},
   "outputs": [],
   "source": [
    "def audio_features(self, tracks=[]):\n",
    "    if isinstance(tracks, str):\n",
    "        trackid = self._get_id(\"track\",tracks)"
   ]
  }
 ],
 "metadata": {
  "kernelspec": {
   "display_name": "Python 3",
   "language": "python",
   "name": "python3"
  },
  "language_info": {
   "codemirror_mode": {
    "name": "ipython",
    "version": 3
   },
   "file_extension": ".py",
   "mimetype": "text/x-python",
   "name": "python",
   "nbconvert_exporter": "python",
   "pygments_lexer": "ipython3",
   "version": "3.8.2"
  }
 },
 "nbformat": 4,
 "nbformat_minor": 2
}
