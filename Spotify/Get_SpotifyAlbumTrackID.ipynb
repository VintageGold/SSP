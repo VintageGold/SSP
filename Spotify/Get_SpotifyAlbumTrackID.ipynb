{
 "cells": [
  {
   "cell_type": "code",
   "execution_count": null,
   "metadata": {},
   "outputs": [],
   "source": [
    "import requests#Connect to endpoints\n",
    "import time #time script\n",
    "import sys\n",
    "import csv\n",
    "import pandas as pd\n",
    "import spotipy#authentication\n",
    "import spotipy.util as util#authentication\n",
    "from spotipy.oauth2 import SpotifyClientCredentials#authentication"
   ]
  },
  {
   "cell_type": "code",
   "execution_count": null,
   "metadata": {},
   "outputs": [],
   "source": [
    "#Credentials\n",
    "cid = '049ade7215e54c63a2b628f3784dc407'\n",
    "secret = 'b86bedbebf53486b970e92b2cb7b612c'\n",
    "redirect_uri = 'http://google.com/'\n",
    "username = 'xxx'"
   ]
  },
  {
   "cell_type": "code",
   "execution_count": null,
   "metadata": {},
   "outputs": [],
   "source": [
    "#Authentication\n",
    "scope = 'user-library-read'\n",
    "token = util.prompt_for_user_token(username, scope, client_id=cid, client_secret=secret, redirect_uri=redirect_uri)\n",
    "\n",
    "if token:\n",
    "    sp = spotipy.Spotify(auth=token)\n",
    "else:\n",
    "    print(\"Can't get token for\", username)"
   ]
  },
  {
   "cell_type": "code",
   "execution_count": null,
   "metadata": {},
   "outputs": [],
   "source": [
    "def get_album_track(url,artist_uri):\n",
    "    all_albums = []\n",
    "    try:\n",
    "        resp = requests.get(url=url,\n",
    "                            headers={'Authorization': 'Bearer ' + token})\n",
    "        resp.raise_for_status()\n",
    "    except requests.exceptions.HTTPError as err:\n",
    "        print(err)\n",
    "        \n",
    "        \n",
    "    response = resp.json()\n",
    "    \n",
    "    album_limit = (response['limit'])-1\n",
    "    \n",
    "    for x in range(album_limit):\n",
    "        try:\n",
    "            track_uri = response['items'][x]['uri'].split(':')\n",
    "            track_name = response['items'][x]['name'].replace('[','').replace(']','')\n",
    "            print(track_uri,track_name)\n",
    "            all_albums.append({'track_uri':track_uri[2],'track_name':track_name})\n",
    "        except IndexError as error:\n",
    "            continue #Natural part of the process. The length of response is sometimes less than limit\n",
    "    try:\n",
    "        if (url is not None):\n",
    "            get_albums(response['next'])\n",
    "        else:\n",
    "            return\n",
    "    except:\n",
    "        return all_albums"
   ]
  },
  {
   "cell_type": "code",
   "execution_count": null,
   "metadata": {},
   "outputs": [],
   "source": [
    "i = 0\n",
    "track_list=[]\n",
    "\n",
    "start = time.time()\n",
    "with open('Data/artist_album_uri.csv') as csvfile:\n",
    "    file = csv.reader(csvfile, delimiter='|')\n",
    "    next(file)\n",
    "    head = [next(file) for x in range(50)] #for limiting amount of rows read\n",
    "    \n",
    "    for row in head:\n",
    "        artist_uri = row[0]\n",
    "        artist_name = row[1]\n",
    "        album_uri = row[2]\n",
    "        print(i,artist_uri,artist_name,album_uri)\n",
    "        albumtracks = get_album_track('https://api.spotify.com/v1/albums/{id}/tracks?limit=14'.format(id=album_uri),artist_uri)#list of album uris\n",
    "        for track in albumtracks:\n",
    "            track_list.append({'Artist URI':artist_uri,'Artist Name':artist_name,'Album URI':album_uri\n",
    "                               ,'track_uri':track['track_uri'],'track_name':track['track_name']})#output album_uri\n",
    "        \n",
    "        i+=1\n",
    "        \n",
    "stop = time.time()\n",
    "duration = (stop - start)/60"
   ]
  },
  {
   "cell_type": "code",
   "execution_count": null,
   "metadata": {},
   "outputs": [],
   "source": [
    "#Duration of script\n",
    "str(duration)+' minutes'"
   ]
  },
  {
   "cell_type": "code",
   "execution_count": null,
   "metadata": {},
   "outputs": [],
   "source": [
    "df = pd.DataFrame(track_list)\n",
    "df\n",
    "#Test whether there are duplicates for Album URI\n",
    "df_dropduplicates = df.drop_duplicates(['Artist URI', 'track_name'])\n",
    "df_dropduplicates\n",
    "df_dropduplicates.to_csv('Data/artist_album_track_uri.csv',sep='|',index=False)"
   ]
  },
  {
   "cell_type": "code",
   "execution_count": null,
   "metadata": {},
   "outputs": [],
   "source": [
    "track_list"
   ]
  },
  {
   "cell_type": "code",
   "execution_count": null,
   "metadata": {},
   "outputs": [],
   "source": []
  }
 ],
 "metadata": {
  "kernelspec": {
   "display_name": "Python 3",
   "language": "python",
   "name": "python3"
  },
  "language_info": {
   "codemirror_mode": {
    "name": "ipython",
    "version": 3
   },
   "file_extension": ".py",
   "mimetype": "text/x-python",
   "name": "python",
   "nbconvert_exporter": "python",
   "pygments_lexer": "ipython3",
   "version": "3.7.4"
  }
 },
 "nbformat": 4,
 "nbformat_minor": 2
}
