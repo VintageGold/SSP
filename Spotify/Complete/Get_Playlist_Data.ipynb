{
 "cells": [
  {
   "cell_type": "code",
   "execution_count": 1,
   "metadata": {},
   "outputs": [],
   "source": [
    "import spotipy\n",
    "import spotipy.util as util\n",
    "import requests\n",
    "import time #audio analysis\n",
    "import sys\n",
    "from spotipy.oauth2 import SpotifyClientCredentials\n",
    "import pandas as pd\n",
    "import csv"
   ]
  },
  {
   "cell_type": "code",
   "execution_count": 2,
   "metadata": {},
   "outputs": [],
   "source": [
    "cid = '049ade7215e54c63a2b628f3784dc407'\n",
    "secret = '1ad94ff2aaec4184b8ba80416ee09bc6'\n",
    "redirect_uri = 'http://google.com/'\n",
    "username = 'xxx'"
   ]
  },
  {
   "cell_type": "code",
   "execution_count": 3,
   "metadata": {},
   "outputs": [],
   "source": [
    "scope = 'user-library-read'\n",
    "token = util.prompt_for_user_token(username, scope, client_id=cid, client_secret=secret, redirect_uri=redirect_uri)\n",
    "\n",
    "if token:\n",
    "    sp = spotipy.Spotify(auth=token)\n",
    "else:\n",
    "    print(\"Can't get token for\", username)"
   ]
  },
  {
   "cell_type": "code",
   "execution_count": 7,
   "metadata": {},
   "outputs": [],
   "source": [
    "#Files\n",
    "playlist_file = 'Data/playlist_datafile.csv'\n",
    "\n",
    "#Master List\n",
    "all_playlists =[]\n"
   ]
  },
  {
   "cell_type": "code",
   "execution_count": 8,
   "metadata": {},
   "outputs": [],
   "source": [
    "def get_playlist_tracks(nexturl):\n",
    "    #Get playlists\n",
    "    try:\n",
    "        resp = requests.get(url=nexturl,\n",
    "                            headers={'Authorization': 'Bearer ' + token})\n",
    "        resp.raise_for_status()\n",
    "    except requests.exceptions.HTTPError as err:\n",
    "        print(err)\n",
    "    \n",
    "    #Generate json\n",
    "    response = resp.json()\n",
    "    \n",
    "        \n",
    "    #Get limit to set range for loop\n",
    "    response_limit = response['limit']-1\n",
    "    \n",
    "    for x in range(response_limit):\n",
    "        try:\n",
    "            uri = response['items'][x]['track']['uri']\n",
    "            title = response['items'][x]['track']['name']\n",
    "            all_playlists.append({'uri':uri,'title':title})\n",
    "        \n",
    "        except IndexError as error:\n",
    "            continue #Natural part of the process. The length of response is sometimes less than limit\n",
    "            \n",
    "    try:    \n",
    "        if (nexturl is not None):#is not none\n",
    "            get_playlist_tracks(response['next'])\n",
    "        else:\n",
    "            return\n",
    "    except:\n",
    "        return\n",
    "\n",
    "    "
   ]
  },
  {
   "cell_type": "code",
   "execution_count": 9,
   "metadata": {},
   "outputs": [],
   "source": [
    "#Read file for playlist ID\n",
    "with open(playlist_file) as csvfile:\n",
    "    playlist_reader = csv.reader(csvfile,delimiter=':')\n",
    "    for row in playlist_reader:\n",
    "        playlist_id_lookup = row[2].strip()\n",
    "        get_playlist_tracks('https://api.spotify.com/v1/playlists/{p}/tracks'.format(p=playlist_id_lookup))\n",
    "    "
   ]
  },
  {
   "cell_type": "code",
   "execution_count": 10,
   "metadata": {},
   "outputs": [
    {
     "data": {
      "text/plain": [
       "'\\nfor index,x in enumerate(all_playlists):\\n    print(index,x)\\n    for key,value in x.items():\\n        if value is None:\\n            print(key,value)\\n'"
      ]
     },
     "execution_count": 10,
     "metadata": {},
     "output_type": "execute_result"
    }
   ],
   "source": [
    "'''\n",
    "for index,x in enumerate(all_playlists):\n",
    "    print(index,x)\n",
    "    for key,value in x.items():\n",
    "        if value is None:\n",
    "            print(key,value)\n",
    "'''\n"
   ]
  },
  {
   "cell_type": "code",
   "execution_count": 11,
   "metadata": {},
   "outputs": [
    {
     "data": {
      "text/html": [
       "<div>\n",
       "<style scoped>\n",
       "    .dataframe tbody tr th:only-of-type {\n",
       "        vertical-align: middle;\n",
       "    }\n",
       "\n",
       "    .dataframe tbody tr th {\n",
       "        vertical-align: top;\n",
       "    }\n",
       "\n",
       "    .dataframe thead th {\n",
       "        text-align: right;\n",
       "    }\n",
       "</style>\n",
       "<table border=\"1\" class=\"dataframe\">\n",
       "  <thead>\n",
       "    <tr style=\"text-align: right;\">\n",
       "      <th></th>\n",
       "      <th>uri</th>\n",
       "      <th>title</th>\n",
       "    </tr>\n",
       "  </thead>\n",
       "  <tbody>\n",
       "    <tr>\n",
       "      <td>0</td>\n",
       "      <td>spotify:track:72794Eag03xdy7TO0KNuid</td>\n",
       "      <td>Cayendo (Side A - Acoustic)</td>\n",
       "    </tr>\n",
       "    <tr>\n",
       "      <td>1</td>\n",
       "      <td>spotify:track:4gwltSjdrzKtKz9dlk2Wja</td>\n",
       "      <td>Stella Brown</td>\n",
       "    </tr>\n",
       "    <tr>\n",
       "      <td>2</td>\n",
       "      <td>spotify:track:1iGOI54dl6Ps1kYlSpPZzg</td>\n",
       "      <td>Overseas</td>\n",
       "    </tr>\n",
       "    <tr>\n",
       "      <td>3</td>\n",
       "      <td>spotify:track:7kfl2DwtW29sYrUGRH5B2Y</td>\n",
       "      <td>Memphis</td>\n",
       "    </tr>\n",
       "    <tr>\n",
       "      <td>4</td>\n",
       "      <td>spotify:track:2j5AyPkjugfvw0HWrK1Wvr</td>\n",
       "      <td>Switch</td>\n",
       "    </tr>\n",
       "    <tr>\n",
       "      <td>...</td>\n",
       "      <td>...</td>\n",
       "      <td>...</td>\n",
       "    </tr>\n",
       "    <tr>\n",
       "      <td>3175</td>\n",
       "      <td>spotify:track:74WLKTDlHXXNDBtUv2pQtl</td>\n",
       "      <td>Seagull</td>\n",
       "    </tr>\n",
       "    <tr>\n",
       "      <td>3176</td>\n",
       "      <td>spotify:track:4QN5BM506dAyQb8zLPvCcT</td>\n",
       "      <td>The Breakaway</td>\n",
       "    </tr>\n",
       "    <tr>\n",
       "      <td>3177</td>\n",
       "      <td>spotify:track:1rlwj3d2YsC5rtdzgupMLw</td>\n",
       "      <td>Rat Poison</td>\n",
       "    </tr>\n",
       "    <tr>\n",
       "      <td>3178</td>\n",
       "      <td>spotify:track:5IaSMARqMHRNydcXkEY3Tu</td>\n",
       "      <td>Training</td>\n",
       "    </tr>\n",
       "    <tr>\n",
       "      <td>3179</td>\n",
       "      <td>spotify:track:4HstLaeC4iZ1419MfOym25</td>\n",
       "      <td>Calhoun</td>\n",
       "    </tr>\n",
       "  </tbody>\n",
       "</table>\n",
       "<p>3180 rows × 2 columns</p>\n",
       "</div>"
      ],
      "text/plain": [
       "                                       uri                        title\n",
       "0     spotify:track:72794Eag03xdy7TO0KNuid  Cayendo (Side A - Acoustic)\n",
       "1     spotify:track:4gwltSjdrzKtKz9dlk2Wja                 Stella Brown\n",
       "2     spotify:track:1iGOI54dl6Ps1kYlSpPZzg                     Overseas\n",
       "3     spotify:track:7kfl2DwtW29sYrUGRH5B2Y                      Memphis\n",
       "4     spotify:track:2j5AyPkjugfvw0HWrK1Wvr                       Switch\n",
       "...                                    ...                          ...\n",
       "3175  spotify:track:74WLKTDlHXXNDBtUv2pQtl                      Seagull\n",
       "3176  spotify:track:4QN5BM506dAyQb8zLPvCcT                The Breakaway\n",
       "3177  spotify:track:1rlwj3d2YsC5rtdzgupMLw                   Rat Poison\n",
       "3178  spotify:track:5IaSMARqMHRNydcXkEY3Tu                     Training\n",
       "3179  spotify:track:4HstLaeC4iZ1419MfOym25                      Calhoun\n",
       "\n",
       "[3180 rows x 2 columns]"
      ]
     },
     "execution_count": 11,
     "metadata": {},
     "output_type": "execute_result"
    }
   ],
   "source": [
    "pd.DataFrame(all_playlists)"
   ]
  },
  {
   "cell_type": "code",
   "execution_count": null,
   "metadata": {},
   "outputs": [],
   "source": []
  }
 ],
 "metadata": {
  "kernelspec": {
   "display_name": "Python 3",
   "language": "python",
   "name": "python3"
  },
  "language_info": {
   "codemirror_mode": {
    "name": "ipython",
    "version": 3
   },
   "file_extension": ".py",
   "mimetype": "text/x-python",
   "name": "python",
   "nbconvert_exporter": "python",
   "pygments_lexer": "ipython3",
   "version": "3.7.4"
  }
 },
 "nbformat": 4,
 "nbformat_minor": 2
}
