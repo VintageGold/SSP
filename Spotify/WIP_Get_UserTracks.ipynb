{
 "cells": [
  {
   "cell_type": "markdown",
   "metadata": {},
   "source": [
    "# Import Libraries "
   ]
  },
  {
   "cell_type": "code",
   "execution_count": 1,
   "metadata": {},
   "outputs": [],
   "source": [
    "import requests#Connect to endpoints\n",
    "import time #time script\n",
    "import sys\n",
    "import csv\n",
    "import pandas as pd\n",
    "import spotipy#authentication\n",
    "import spotipy.util as util#authentication\n",
    "from spotipy.oauth2 import SpotifyClientCredentials#authentication"
   ]
  },
  {
   "cell_type": "markdown",
   "metadata": {},
   "source": [
    "# declaring credentials"
   ]
  },
  {
   "cell_type": "code",
   "execution_count": 2,
   "metadata": {},
   "outputs": [],
   "source": [
    "cid = '049ade7215e54c63a2b628f3784dc407'\n",
    "secret = 'b86bedbebf53486b970e92b2cb7b612c'\n",
    "redirect_uri = 'http://google.com/'\n",
    "username = 'xxx'"
   ]
  },
  {
   "cell_type": "markdown",
   "metadata": {},
   "source": [
    "# authorization flow"
   ]
  },
  {
   "cell_type": "code",
   "execution_count": 3,
   "metadata": {},
   "outputs": [],
   "source": [
    "scope = 'user-library-read'\n",
    "token = util.prompt_for_user_token(username, scope, client_id=cid, client_secret=secret, redirect_uri=redirect_uri)\n",
    "\n",
    "if token:\n",
    "    sp = spotipy.Spotify(auth=token)\n",
    "else:\n",
    "    print(\"Can't get token for\", username)"
   ]
  },
  {
   "cell_type": "markdown",
   "metadata": {},
   "source": [
    "# Global list for Tracks"
   ]
  },
  {
   "cell_type": "code",
   "execution_count": 40,
   "metadata": {},
   "outputs": [],
   "source": [
    "#Use this global list in the get_tracks function\n",
    "tracks = []"
   ]
  },
  {
   "cell_type": "markdown",
   "metadata": {},
   "source": [
    "# Retrieving Like Tracks"
   ]
  },
  {
   "cell_type": "code",
   "execution_count": 41,
   "metadata": {},
   "outputs": [],
   "source": [
    "def get_tracks(nexturl,show=True):\n",
    "    try:\n",
    "        resp = requests.get(url=nexturl,\n",
    "                            headers={'Authorization': 'Bearer ' + token})\n",
    "        resp.raise_for_status()\n",
    "    except requests.exceptions.HTTPError as err:\n",
    "        print(err)\n",
    "        \n",
    "    response = resp.json()\n",
    "    limit = response['limit']-1\n",
    "    \n",
    "    for x in range(limit):\n",
    "        try:\n",
    "            track_uri = response['items'][x]['track']['uri']\n",
    "            track_name = response['items'][x]['track']['name']\n",
    "            \n",
    "            #*Using the list.append() function append a dictionary containing \n",
    "            #*track_uri and track_name to the tracks list\n",
    "            #*An example of a dictionary is {'Artist_URI':artist_uri,'Artist Name':artist_name}\n",
    "        \n",
    "        except IndexError as error:\n",
    "            continue #Routine process error becuase list of tracks is not always equal to limit\n",
    "    \n",
    "    #Display\n",
    "    if show:\n",
    "        print('Reading: {u}'.format(u=nexturl))\n",
    "    try:\n",
    "        if (nexturl is not None):\n",
    "            get_tracks(response['next'])\n",
    "        else:\n",
    "            return tracks# change to tracks\n",
    "    except:\n",
    "        return nexturl"
   ]
  },
  {
   "cell_type": "markdown",
   "metadata": {},
   "source": [
    "# Extracting Liked Tracks"
   ]
  },
  {
   "cell_type": "code",
   "execution_count": 42,
   "metadata": {
    "scrolled": false
   },
   "outputs": [
    {
     "name": "stdout",
     "output_type": "stream",
     "text": [
      "Reading: https://api.spotify.com/v1/me/tracks?limit=50\n",
      "Reading: https://api.spotify.com/v1/me/tracks?offset=50&limit=50\n",
      "Reading: https://api.spotify.com/v1/me/tracks?offset=100&limit=50\n",
      "Reading: https://api.spotify.com/v1/me/tracks?offset=150&limit=50\n",
      "Reading: https://api.spotify.com/v1/me/tracks?offset=200&limit=50\n",
      "Reading: https://api.spotify.com/v1/me/tracks?offset=250&limit=50\n",
      "Reading: https://api.spotify.com/v1/me/tracks?offset=300&limit=50\n",
      "Reading: https://api.spotify.com/v1/me/tracks?offset=350&limit=50\n",
      "Reading: https://api.spotify.com/v1/me/tracks?offset=400&limit=50\n",
      "Reading: https://api.spotify.com/v1/me/tracks?offset=450&limit=50\n",
      "Reading: https://api.spotify.com/v1/me/tracks?offset=500&limit=50\n",
      "Reading: https://api.spotify.com/v1/me/tracks?offset=550&limit=50\n",
      "Reading: https://api.spotify.com/v1/me/tracks?offset=600&limit=50\n",
      "Reading: https://api.spotify.com/v1/me/tracks?offset=650&limit=50\n",
      "Reading: https://api.spotify.com/v1/me/tracks?offset=700&limit=50\n",
      "Reading: https://api.spotify.com/v1/me/tracks?offset=750&limit=50\n",
      "Reading: https://api.spotify.com/v1/me/tracks?offset=800&limit=50\n",
      "Reading: https://api.spotify.com/v1/me/tracks?offset=850&limit=50\n",
      "Reading: https://api.spotify.com/v1/me/tracks?offset=900&limit=50\n",
      "Reading: https://api.spotify.com/v1/me/tracks?offset=950&limit=50\n",
      "Reading: https://api.spotify.com/v1/me/tracks?offset=1000&limit=50\n",
      "Reading: https://api.spotify.com/v1/me/tracks?offset=1050&limit=50\n",
      "Reading: https://api.spotify.com/v1/me/tracks?offset=1100&limit=50\n",
      "Reading: https://api.spotify.com/v1/me/tracks?offset=1150&limit=50\n",
      "Reading: https://api.spotify.com/v1/me/tracks?offset=1200&limit=50\n",
      "Reading: https://api.spotify.com/v1/me/tracks?offset=1250&limit=50\n",
      "Reading: https://api.spotify.com/v1/me/tracks?offset=1300&limit=50\n",
      "Reading: https://api.spotify.com/v1/me/tracks?offset=1350&limit=50\n",
      "Reading: https://api.spotify.com/v1/me/tracks?offset=1400&limit=50\n",
      "Reading: https://api.spotify.com/v1/me/tracks?offset=1450&limit=50\n",
      "Reading: https://api.spotify.com/v1/me/tracks?offset=1500&limit=50\n",
      "Reading: https://api.spotify.com/v1/me/tracks?offset=1550&limit=50\n",
      "Reading: https://api.spotify.com/v1/me/tracks?offset=1600&limit=50\n",
      "Reading: https://api.spotify.com/v1/me/tracks?offset=1650&limit=50\n",
      "Reading: https://api.spotify.com/v1/me/tracks?offset=1700&limit=50\n",
      "Reading: https://api.spotify.com/v1/me/tracks?offset=1750&limit=50\n",
      "Reading: https://api.spotify.com/v1/me/tracks?offset=1800&limit=50\n",
      "Reading: https://api.spotify.com/v1/me/tracks?offset=1850&limit=50\n",
      "Reading: https://api.spotify.com/v1/me/tracks?offset=1900&limit=50\n",
      "Reading: https://api.spotify.com/v1/me/tracks?offset=1950&limit=50\n",
      "Reading: https://api.spotify.com/v1/me/tracks?offset=2000&limit=50\n",
      "Reading: https://api.spotify.com/v1/me/tracks?offset=2050&limit=50\n",
      "Reading: https://api.spotify.com/v1/me/tracks?offset=2100&limit=50\n",
      "Reading: https://api.spotify.com/v1/me/tracks?offset=2150&limit=50\n",
      "Reading: https://api.spotify.com/v1/me/tracks?offset=2200&limit=50\n",
      "Reading: https://api.spotify.com/v1/me/tracks?offset=2250&limit=50\n",
      "Reading: https://api.spotify.com/v1/me/tracks?offset=2300&limit=50\n",
      "Reading: https://api.spotify.com/v1/me/tracks?offset=2350&limit=50\n",
      "Reading: https://api.spotify.com/v1/me/tracks?offset=2400&limit=50\n",
      "Reading: https://api.spotify.com/v1/me/tracks?offset=2450&limit=50\n",
      "Reading: https://api.spotify.com/v1/me/tracks?offset=2500&limit=50\n",
      "Reading: https://api.spotify.com/v1/me/tracks?offset=2550&limit=50\n",
      "Reading: https://api.spotify.com/v1/me/tracks?offset=2600&limit=50\n",
      "Reading: https://api.spotify.com/v1/me/tracks?offset=2650&limit=50\n",
      "Reading: https://api.spotify.com/v1/me/tracks?offset=2700&limit=50\n",
      "Reading: https://api.spotify.com/v1/me/tracks?offset=2750&limit=50\n",
      "Reading: https://api.spotify.com/v1/me/tracks?offset=2800&limit=50\n",
      "Reading: https://api.spotify.com/v1/me/tracks?offset=2850&limit=50\n",
      "Reading: https://api.spotify.com/v1/me/tracks?offset=2900&limit=50\n",
      "Reading: https://api.spotify.com/v1/me/tracks?offset=2950&limit=50\n",
      "Reading: https://api.spotify.com/v1/me/tracks?offset=3000&limit=50\n",
      "Reading: https://api.spotify.com/v1/me/tracks?offset=3050&limit=50\n",
      "Reading: https://api.spotify.com/v1/me/tracks?offset=3100&limit=50\n",
      "Reading: https://api.spotify.com/v1/me/tracks?offset=3150&limit=50\n",
      "Reading: https://api.spotify.com/v1/me/tracks?offset=3200&limit=50\n",
      "Reading: https://api.spotify.com/v1/me/tracks?offset=3250&limit=50\n",
      "Reading: https://api.spotify.com/v1/me/tracks?offset=3300&limit=50\n",
      "Reading: https://api.spotify.com/v1/me/tracks?offset=3350&limit=50\n",
      "Reading: https://api.spotify.com/v1/me/tracks?offset=3400&limit=50\n",
      "Reading: https://api.spotify.com/v1/me/tracks?offset=3450&limit=50\n",
      "Reading: https://api.spotify.com/v1/me/tracks?offset=3500&limit=50\n",
      "Reading: https://api.spotify.com/v1/me/tracks?offset=3550&limit=50\n",
      "Reading: https://api.spotify.com/v1/me/tracks?offset=3600&limit=50\n",
      "Reading: https://api.spotify.com/v1/me/tracks?offset=3650&limit=50\n",
      "Reading: https://api.spotify.com/v1/me/tracks?offset=3700&limit=50\n",
      "Reading: https://api.spotify.com/v1/me/tracks?offset=3750&limit=50\n",
      "Reading: https://api.spotify.com/v1/me/tracks?offset=3800&limit=50\n",
      "Reading: https://api.spotify.com/v1/me/tracks?offset=3850&limit=50\n",
      "Reading: https://api.spotify.com/v1/me/tracks?offset=3900&limit=50\n",
      "Reading: https://api.spotify.com/v1/me/tracks?offset=3950&limit=50\n",
      "Reading: https://api.spotify.com/v1/me/tracks?offset=4000&limit=50\n",
      "Reading: https://api.spotify.com/v1/me/tracks?offset=4050&limit=50\n",
      "Reading: https://api.spotify.com/v1/me/tracks?offset=4100&limit=50\n",
      "Reading: https://api.spotify.com/v1/me/tracks?offset=4150&limit=50\n",
      "Reading: https://api.spotify.com/v1/me/tracks?offset=4200&limit=50\n",
      "Reading: https://api.spotify.com/v1/me/tracks?offset=4250&limit=50\n",
      "Reading: https://api.spotify.com/v1/me/tracks?offset=4300&limit=50\n",
      "Reading: https://api.spotify.com/v1/me/tracks?offset=4350&limit=50\n",
      "Reading: https://api.spotify.com/v1/me/tracks?offset=4400&limit=50\n",
      "Reading: https://api.spotify.com/v1/me/tracks?offset=4450&limit=50\n",
      "Reading: https://api.spotify.com/v1/me/tracks?offset=4500&limit=50\n",
      "Reading: https://api.spotify.com/v1/me/tracks?offset=4550&limit=50\n",
      "Reading: https://api.spotify.com/v1/me/tracks?offset=4600&limit=50\n",
      "Reading: https://api.spotify.com/v1/me/tracks?offset=4650&limit=50\n",
      "Reading: https://api.spotify.com/v1/me/tracks?offset=4700&limit=50\n",
      "Reading: https://api.spotify.com/v1/me/tracks?offset=4750&limit=50\n",
      "Reading: https://api.spotify.com/v1/me/tracks?offset=4800&limit=50\n",
      "Reading: https://api.spotify.com/v1/me/tracks?offset=4850&limit=50\n",
      "Reading: https://api.spotify.com/v1/me/tracks?offset=4900&limit=50\n",
      "Reading: https://api.spotify.com/v1/me/tracks?offset=4950&limit=50\n",
      "Reading: https://api.spotify.com/v1/me/tracks?offset=5000&limit=50\n",
      "Reading: https://api.spotify.com/v1/me/tracks?offset=5050&limit=50\n",
      "Reading: https://api.spotify.com/v1/me/tracks?offset=5100&limit=50\n",
      "Reading: https://api.spotify.com/v1/me/tracks?offset=5150&limit=50\n",
      "Reading: https://api.spotify.com/v1/me/tracks?offset=5200&limit=50\n",
      "Reading: https://api.spotify.com/v1/me/tracks?offset=5250&limit=50\n",
      "Reading: https://api.spotify.com/v1/me/tracks?offset=5300&limit=50\n",
      "Reading: https://api.spotify.com/v1/me/tracks?offset=5350&limit=50\n",
      "Reading: https://api.spotify.com/v1/me/tracks?offset=5400&limit=50\n",
      "Reading: https://api.spotify.com/v1/me/tracks?offset=5450&limit=50\n",
      "Reading: https://api.spotify.com/v1/me/tracks?offset=5500&limit=50\n",
      "Reading: https://api.spotify.com/v1/me/tracks?offset=5550&limit=50\n",
      "Reading: https://api.spotify.com/v1/me/tracks?offset=5600&limit=50\n",
      "Reading: https://api.spotify.com/v1/me/tracks?offset=5650&limit=50\n",
      "Reading: https://api.spotify.com/v1/me/tracks?offset=5700&limit=50\n",
      "Reading: https://api.spotify.com/v1/me/tracks?offset=5750&limit=50\n",
      "Reading: https://api.spotify.com/v1/me/tracks?offset=5800&limit=50\n",
      "Reading: https://api.spotify.com/v1/me/tracks?offset=5850&limit=50\n",
      "Reading: https://api.spotify.com/v1/me/tracks?offset=5900&limit=50\n"
     ]
    }
   ],
   "source": [
    "start = time.time()\n",
    "\n",
    "all_tracks = get_tracks('https://api.spotify.com/v1/me/tracks?limit=50',show=True)\n",
    "\n",
    "stop = time.time()\n",
    "duration = (stop - start)/60"
   ]
  },
  {
   "cell_type": "code",
   "execution_count": 43,
   "metadata": {},
   "outputs": [
    {
     "data": {
      "text/plain": [
       "NoneType"
      ]
     },
     "execution_count": 43,
     "metadata": {},
     "output_type": "execute_result"
    }
   ],
   "source": [
    "#should be NoneType\n",
    "type(all_tracks)"
   ]
  },
  {
   "cell_type": "code",
   "execution_count": 44,
   "metadata": {},
   "outputs": [
    {
     "data": {
      "text/plain": [
       "'0.5902190367380779 minutes'"
      ]
     },
     "execution_count": 44,
     "metadata": {},
     "output_type": "execute_result"
    }
   ],
   "source": [
    "str(duration)+' minutes'"
   ]
  },
  {
   "cell_type": "code",
   "execution_count": null,
   "metadata": {},
   "outputs": [],
   "source": [
    "#If a dataframe doesn't show make sure there is an append to tracks in the get_tracks function\n",
    "#If your tracks are way larger than the number next to offeset in the links rereun the global track cell and rerun\n",
    "df = pd.DataFrame(tracks)\n",
    "df"
   ]
  },
  {
   "cell_type": "code",
   "execution_count": null,
   "metadata": {},
   "outputs": [],
   "source": [
    "#Should be found in the Data folder in the repo\n",
    "df.to_csv('Data/user_track_uri.csv',sep='|',index=False)"
   ]
  },
  {
   "cell_type": "code",
   "execution_count": 45,
   "metadata": {},
   "outputs": [
    {
     "data": {
      "text/html": [
       "<div>\n",
       "<style scoped>\n",
       "    .dataframe tbody tr th:only-of-type {\n",
       "        vertical-align: middle;\n",
       "    }\n",
       "\n",
       "    .dataframe tbody tr th {\n",
       "        vertical-align: top;\n",
       "    }\n",
       "\n",
       "    .dataframe thead th {\n",
       "        text-align: right;\n",
       "    }\n",
       "</style>\n",
       "<table border=\"1\" class=\"dataframe\">\n",
       "  <thead>\n",
       "    <tr style=\"text-align: right;\">\n",
       "      <th></th>\n",
       "      <th>track_uri</th>\n",
       "      <th>track_name</th>\n",
       "    </tr>\n",
       "  </thead>\n",
       "  <tbody>\n",
       "    <tr>\n",
       "      <td>0</td>\n",
       "      <td>spotify:track:75OmQKjTDe2EqmY3KYhzyy</td>\n",
       "      <td>Ominous Isthmus</td>\n",
       "    </tr>\n",
       "    <tr>\n",
       "      <td>1</td>\n",
       "      <td>spotify:track:7pZhvT9fdiCPYeFox4PlyG</td>\n",
       "      <td>What More U Want</td>\n",
       "    </tr>\n",
       "    <tr>\n",
       "      <td>2</td>\n",
       "      <td>spotify:track:2zW8KlGcOEBjqN2VLEBh6j</td>\n",
       "      <td>For What It's Worth</td>\n",
       "    </tr>\n",
       "    <tr>\n",
       "      <td>3</td>\n",
       "      <td>spotify:track:6BBDl1u5W0T8DeNyXJ2G2E</td>\n",
       "      <td>Planet Rock '96</td>\n",
       "    </tr>\n",
       "    <tr>\n",
       "      <td>4</td>\n",
       "      <td>spotify:track:33Dgn970ISVoj4KuQcGTV0</td>\n",
       "      <td>Do The Wrong Thing</td>\n",
       "    </tr>\n",
       "    <tr>\n",
       "      <td>...</td>\n",
       "      <td>...</td>\n",
       "      <td>...</td>\n",
       "    </tr>\n",
       "    <tr>\n",
       "      <td>5809</td>\n",
       "      <td>spotify:track:0PhOISlDStrQ2OA95Mt5di</td>\n",
       "      <td>Invincibility of Youth</td>\n",
       "    </tr>\n",
       "    <tr>\n",
       "      <td>5810</td>\n",
       "      <td>spotify:track:1QwMsUyMKjHXutqpfhLSQX</td>\n",
       "      <td>One Last Hurrah</td>\n",
       "    </tr>\n",
       "    <tr>\n",
       "      <td>5811</td>\n",
       "      <td>spotify:track:1EtnerdQGX4shiLF8YhzGY</td>\n",
       "      <td>Alkaline</td>\n",
       "    </tr>\n",
       "    <tr>\n",
       "      <td>5812</td>\n",
       "      <td>spotify:track:4M07IiNsHkwbq903FyDksl</td>\n",
       "      <td>Turquoise</td>\n",
       "    </tr>\n",
       "    <tr>\n",
       "      <td>5813</td>\n",
       "      <td>spotify:track:1nK5xFhT52mjte2L2a4efK</td>\n",
       "      <td>Disappear in a Blood-Red Sky</td>\n",
       "    </tr>\n",
       "  </tbody>\n",
       "</table>\n",
       "<p>5814 rows × 2 columns</p>\n",
       "</div>"
      ],
      "text/plain": [
       "                                 track_uri                    track_name\n",
       "0     spotify:track:75OmQKjTDe2EqmY3KYhzyy               Ominous Isthmus\n",
       "1     spotify:track:7pZhvT9fdiCPYeFox4PlyG              What More U Want\n",
       "2     spotify:track:2zW8KlGcOEBjqN2VLEBh6j           For What It's Worth\n",
       "3     spotify:track:6BBDl1u5W0T8DeNyXJ2G2E               Planet Rock '96\n",
       "4     spotify:track:33Dgn970ISVoj4KuQcGTV0            Do The Wrong Thing\n",
       "...                                    ...                           ...\n",
       "5809  spotify:track:0PhOISlDStrQ2OA95Mt5di        Invincibility of Youth\n",
       "5810  spotify:track:1QwMsUyMKjHXutqpfhLSQX               One Last Hurrah\n",
       "5811  spotify:track:1EtnerdQGX4shiLF8YhzGY                      Alkaline\n",
       "5812  spotify:track:4M07IiNsHkwbq903FyDksl                     Turquoise\n",
       "5813  spotify:track:1nK5xFhT52mjte2L2a4efK  Disappear in a Blood-Red Sky\n",
       "\n",
       "[5814 rows x 2 columns]"
      ]
     },
     "execution_count": 45,
     "metadata": {},
     "output_type": "execute_result"
    }
   ],
   "source": [
    "#Example output"
   ]
  },
  {
   "cell_type": "code",
   "execution_count": null,
   "metadata": {},
   "outputs": [],
   "source": []
  }
 ],
 "metadata": {
  "kernelspec": {
   "display_name": "Python 3",
   "language": "python",
   "name": "python3"
  },
  "language_info": {
   "codemirror_mode": {
    "name": "ipython",
    "version": 3
   },
   "file_extension": ".py",
   "mimetype": "text/x-python",
   "name": "python",
   "nbconvert_exporter": "python",
   "pygments_lexer": "ipython3",
   "version": "3.7.4"
  }
 },
 "nbformat": 4,
 "nbformat_minor": 4
}
