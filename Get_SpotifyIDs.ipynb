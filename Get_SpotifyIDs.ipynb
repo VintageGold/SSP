{
 "cells": [
  {
   "cell_type": "code",
   "execution_count": 1,
   "metadata": {},
   "outputs": [],
   "source": [
    "import requests#Connect to endpoints\n",
    "import time #time script\n",
    "import sys\n",
    "import csv\n",
    "import pandas as pd\n",
    "import spotipy#authentication\n",
    "import spotipy.util as util#authentication\n",
    "from spotipy.oauth2 import SpotifyClientCredentials#authentication"
   ]
  },
  {
   "cell_type": "code",
   "execution_count": 2,
   "metadata": {},
   "outputs": [],
   "source": [
    "#Credentials\n",
    "cid = '049ade7215e54c63a2b628f3784dc407'\n",
    "secret = '1ad94ff2aaec4184b8ba80416ee09bc6'\n",
    "redirect_uri = 'http://google.com/'\n",
    "username = 'xxx'"
   ]
  },
  {
   "cell_type": "code",
   "execution_count": 3,
   "metadata": {},
   "outputs": [],
   "source": [
    "#Authentication\n",
    "scope = 'user-library-read'\n",
    "token = util.prompt_for_user_token(username, scope, client_id=cid, client_secret=secret, redirect_uri=redirect_uri)\n",
    "\n",
    "if token:\n",
    "    sp = spotipy.Spotify(auth=token)\n",
    "else:\n",
    "    print(\"Can't get token for\", username)"
   ]
  },
  {
   "cell_type": "code",
   "execution_count": 7,
   "metadata": {},
   "outputs": [],
   "source": [
    "def get_artist(url):\n",
    "    print(url)\n",
    "    try:\n",
    "        resp = requests.get(url=url,\n",
    "                            headers={'Authorization': 'Bearer ' + token})\n",
    "        resp.raise_for_status()\n",
    "    except requests.exceptions.HTTPError as err:\n",
    "        print(err)\n",
    "        \n",
    "    response = resp.json()\n",
    "    try:\n",
    "        artist_uri = response['artists']['items'][0]['uri'].split(':')\n",
    "        return artist_uri[2]\n",
    "    except IndexError as error:\n",
    "        return\n",
    "\n",
    "def get_albums(url,artist_uri):\n",
    "    all_albums = []\n",
    "    try:\n",
    "        resp = requests.get(url=url,\n",
    "                            headers={'Authorization': 'Bearer ' + token})\n",
    "        resp.raise_for_status()\n",
    "    except requests.exceptions.HTTPError as err:\n",
    "        print(err)\n",
    "        \n",
    "    response = resp.json()\n",
    "\n",
    "    album_limit = (response['limit'])-1\n",
    "    \n",
    "    for x in range(album_limit):\n",
    "        try:\n",
    "            album_uri = response['items'][x]['uri'].split(':')\n",
    "            all_albums.append(album_uri[2])\n",
    "        except IndexError as error:\n",
    "            continue #Natural part of the process. The length of response is sometimes less than limit\n",
    "    try:\n",
    "        if (url is not None):\n",
    "            get_albums(response['next'])\n",
    "        else:\n",
    "            return\n",
    "    except:\n",
    "        return all_albums\n",
    "    \n",
    "def get_album_tracks(album_uri):\n",
    "    pass\n",
    "    \n",
    "    "
   ]
  },
  {
   "cell_type": "code",
   "execution_count": 11,
   "metadata": {},
   "outputs": [
    {
     "name": "stdout",
     "output_type": "stream",
     "text": [
      "['al di meola \\n']\n",
      "al%di%meola%\n",
      "\n",
      "https://api.spotify.com/v1/search?q=al%di%meola%\n",
      "&type=artist\n",
      "400 Client Error: Bad Request for url: https://api.spotify.com/v1/artists/%20/albums\n"
     ]
    }
   ],
   "source": [
    "x = 0\n",
    "artist_albums=[]\n",
    "\n",
    "start = time.time()\n",
    "with open('Data/clean_lowercase_musicDB_final.csv') as file:\n",
    "    next(file)\n",
    "    head = [next(file) for x in range(1)] #for limiting amount of rows read\n",
    "    print(head)\n",
    "    for row in head:\n",
    "        #with open('Data/Spotify_Musicdb_artist_id.txt','a') as outfile:\n",
    "        try:\n",
    "            artist = row.replace('\\n','')\n",
    "            artist = row.strip()\n",
    "            artist = row.replace(' ','%')\n",
    "            print(artist)\n",
    "            artist_uri = get_artist('https://api.spotify.com/v1/search?q={a}&type=artist'.format(a=artist))#output artist uri\n",
    "            albums = get_albums('https://api.spotify.com/v1/artists/{id}/albums?'.format(id=row[2]),row[2])#list of album uris\n",
    "            for album in albums:\n",
    "                artist_albums.append({'Artist Name':row,'Artist URI':artist_uri,'Album URI':album})#output album_uri\n",
    "                \n",
    "                #album_tracks = #use https://api.spotify.com/v1/albums/{uri}/tracks: fill in id with album\n",
    "                print(row,artist_uri,album)\n",
    "                x+=1\n",
    "        except:\n",
    "            continue\n",
    "\n",
    "stop = time.time()\n",
    "duration = (stop - start)/60"
   ]
  },
  {
   "cell_type": "code",
   "execution_count": 23,
   "metadata": {},
   "outputs": [
    {
     "data": {
      "text/plain": [
       "'1212.1697368621826 minutes'"
      ]
     },
     "execution_count": 23,
     "metadata": {},
     "output_type": "execute_result"
    }
   ],
   "source": [
    "#Duration of script\n",
    "str(duration)+' minutes'"
   ]
  },
  {
   "cell_type": "code",
   "execution_count": 18,
   "metadata": {},
   "outputs": [
    {
     "data": {
      "text/html": [
       "<div>\n",
       "<style scoped>\n",
       "    .dataframe tbody tr th:only-of-type {\n",
       "        vertical-align: middle;\n",
       "    }\n",
       "\n",
       "    .dataframe tbody tr th {\n",
       "        vertical-align: top;\n",
       "    }\n",
       "\n",
       "    .dataframe thead th {\n",
       "        text-align: right;\n",
       "    }\n",
       "</style>\n",
       "<table border=\"1\" class=\"dataframe\">\n",
       "  <thead>\n",
       "    <tr style=\"text-align: right;\">\n",
       "      <th></th>\n",
       "      <th>artist</th>\n",
       "      <th>album</th>\n",
       "    </tr>\n",
       "  </thead>\n",
       "  <tbody>\n",
       "    <tr>\n",
       "      <td>0</td>\n",
       "      <td>spotify:artist:79BoW9by11VQdVJHy6nelQ</td>\n",
       "      <td>7xbyqbmIudUFYHsgHEvcwp</td>\n",
       "    </tr>\n",
       "    <tr>\n",
       "      <td>1</td>\n",
       "      <td>spotify:artist:79BoW9by11VQdVJHy6nelQ</td>\n",
       "      <td>0HSSxy1xsVQNMobVl0Cr37</td>\n",
       "    </tr>\n",
       "    <tr>\n",
       "      <td>2</td>\n",
       "      <td>spotify:artist:79BoW9by11VQdVJHy6nelQ</td>\n",
       "      <td>1Fgb628XzkhBllD7xOZpV9</td>\n",
       "    </tr>\n",
       "    <tr>\n",
       "      <td>3</td>\n",
       "      <td>spotify:artist:79BoW9by11VQdVJHy6nelQ</td>\n",
       "      <td>3UzuqCIPD2JiWHoLWro8Id</td>\n",
       "    </tr>\n",
       "    <tr>\n",
       "      <td>4</td>\n",
       "      <td>spotify:artist:79BoW9by11VQdVJHy6nelQ</td>\n",
       "      <td>001oY5Lq7TK2VgNwRVloiD</td>\n",
       "    </tr>\n",
       "    <tr>\n",
       "      <td>...</td>\n",
       "      <td>...</td>\n",
       "      <td>...</td>\n",
       "    </tr>\n",
       "    <tr>\n",
       "      <td>34704</td>\n",
       "      <td>spotify:artist:79BoW9by11VQdVJHy6nelQ</td>\n",
       "      <td>3ioJCXzcpaDJqsVAkLQ2uB</td>\n",
       "    </tr>\n",
       "    <tr>\n",
       "      <td>34705</td>\n",
       "      <td>spotify:artist:79BoW9by11VQdVJHy6nelQ</td>\n",
       "      <td>6sH5Q8GrmzFu2pbjl1yXcB</td>\n",
       "    </tr>\n",
       "    <tr>\n",
       "      <td>34706</td>\n",
       "      <td>spotify:artist:79BoW9by11VQdVJHy6nelQ</td>\n",
       "      <td>2BvDVDifBe8W3y3p1DXHV8</td>\n",
       "    </tr>\n",
       "    <tr>\n",
       "      <td>34707</td>\n",
       "      <td>spotify:artist:79BoW9by11VQdVJHy6nelQ</td>\n",
       "      <td>0f0ZRGm8fvljbPZYz3Xhl0</td>\n",
       "    </tr>\n",
       "    <tr>\n",
       "      <td>34708</td>\n",
       "      <td>spotify:artist:79BoW9by11VQdVJHy6nelQ</td>\n",
       "      <td>5pMtxpF2WDnWBJZgAEshCl</td>\n",
       "    </tr>\n",
       "  </tbody>\n",
       "</table>\n",
       "<p>34709 rows × 2 columns</p>\n",
       "</div>"
      ],
      "text/plain": [
       "                                      artist                   album\n",
       "0      spotify:artist:79BoW9by11VQdVJHy6nelQ  7xbyqbmIudUFYHsgHEvcwp\n",
       "1      spotify:artist:79BoW9by11VQdVJHy6nelQ  0HSSxy1xsVQNMobVl0Cr37\n",
       "2      spotify:artist:79BoW9by11VQdVJHy6nelQ  1Fgb628XzkhBllD7xOZpV9\n",
       "3      spotify:artist:79BoW9by11VQdVJHy6nelQ  3UzuqCIPD2JiWHoLWro8Id\n",
       "4      spotify:artist:79BoW9by11VQdVJHy6nelQ  001oY5Lq7TK2VgNwRVloiD\n",
       "...                                      ...                     ...\n",
       "34704  spotify:artist:79BoW9by11VQdVJHy6nelQ  3ioJCXzcpaDJqsVAkLQ2uB\n",
       "34705  spotify:artist:79BoW9by11VQdVJHy6nelQ  6sH5Q8GrmzFu2pbjl1yXcB\n",
       "34706  spotify:artist:79BoW9by11VQdVJHy6nelQ  2BvDVDifBe8W3y3p1DXHV8\n",
       "34707  spotify:artist:79BoW9by11VQdVJHy6nelQ  0f0ZRGm8fvljbPZYz3Xhl0\n",
       "34708  spotify:artist:79BoW9by11VQdVJHy6nelQ  5pMtxpF2WDnWBJZgAEshCl\n",
       "\n",
       "[34709 rows x 2 columns]"
      ]
     },
     "execution_count": 18,
     "metadata": {},
     "output_type": "execute_result"
    }
   ],
   "source": [
    "df = pd.DataFrame(artist_albums)\n",
    "df"
   ]
  },
  {
   "cell_type": "code",
   "execution_count": null,
   "metadata": {},
   "outputs": [],
   "source": []
  }
 ],
 "metadata": {
  "kernelspec": {
   "display_name": "Python 3",
   "language": "python",
   "name": "python3"
  },
  "language_info": {
   "codemirror_mode": {
    "name": "ipython",
    "version": 3
   },
   "file_extension": ".py",
   "mimetype": "text/x-python",
   "name": "python",
   "nbconvert_exporter": "python",
   "pygments_lexer": "ipython3",
   "version": "3.7.4"
  }
 },
 "nbformat": 4,
 "nbformat_minor": 2
}
