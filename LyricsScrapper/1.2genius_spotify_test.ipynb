{
 "cells": [
  {
   "cell_type": "code",
   "execution_count": 1,
   "metadata": {
    "colab": {
     "base_uri": "https://localhost:8080/",
     "height": 156
    },
    "colab_type": "code",
    "id": "VldzMZUDUReN",
    "outputId": "ab2d434b-ad9e-4a2b-8324-71893c471d4a"
   },
   "outputs": [
    {
     "name": "stdout",
     "output_type": "stream",
     "text": [
      "Requirement already satisfied: lyricsgenius in /Users/adamgoldstein/opt/anaconda3/lib/python3.7/site-packages (1.8.2)\n",
      "Requirement already satisfied: requests>=2.20.0 in /Users/adamgoldstein/opt/anaconda3/lib/python3.7/site-packages (from lyricsgenius) (2.22.0)\n",
      "Requirement already satisfied: beautifulsoup4==4.6.0 in /Users/adamgoldstein/opt/anaconda3/lib/python3.7/site-packages (from lyricsgenius) (4.6.0)\n",
      "Requirement already satisfied: urllib3!=1.25.0,!=1.25.1,<1.26,>=1.21.1 in /Users/adamgoldstein/opt/anaconda3/lib/python3.7/site-packages (from requests>=2.20.0->lyricsgenius) (1.24.2)\n",
      "Requirement already satisfied: certifi>=2017.4.17 in /Users/adamgoldstein/opt/anaconda3/lib/python3.7/site-packages (from requests>=2.20.0->lyricsgenius) (2019.9.11)\n",
      "Requirement already satisfied: chardet<3.1.0,>=3.0.2 in /Users/adamgoldstein/opt/anaconda3/lib/python3.7/site-packages (from requests>=2.20.0->lyricsgenius) (3.0.4)\n",
      "Requirement already satisfied: idna<2.9,>=2.5 in /Users/adamgoldstein/opt/anaconda3/lib/python3.7/site-packages (from requests>=2.20.0->lyricsgenius) (2.8)\n"
     ]
    }
   ],
   "source": [
    "!pip install lyricsgenius"
   ]
  },
  {
   "cell_type": "code",
   "execution_count": 1,
   "metadata": {
    "colab": {},
    "colab_type": "code",
    "id": "zafXzoFZUEMr"
   },
   "outputs": [],
   "source": [
    "import lyricsgenius\n",
    "import string\n",
    "import time\n",
    "from bs4 import BeautifulSoup\n",
    "import requests\n",
    "import csv"
   ]
  },
  {
   "cell_type": "code",
   "execution_count": 2,
   "metadata": {
    "colab": {},
    "colab_type": "code",
    "id": "Cwe7_Ww3UEMy"
   },
   "outputs": [],
   "source": [
    "def _removeNonAscii(s):\n",
    "    return \"\".join(i for i in s if ord(i)<128)\n",
    "    \n"
   ]
  },
  {
   "cell_type": "code",
   "execution_count": 5,
   "metadata": {},
   "outputs": [],
   "source": [
    "class SSP():\n",
    "    \n",
    "    def lyrics_clean(s):\n",
    "        clean = ''.join(i for i in s if ord(i)<128).translate(str.maketrans(' ',' ',string.punctuation))\n",
    "        lyrics_clean = clean.translate(str.maketrans(' ',' ','\\n'))\n",
    "        return lyrics_clean\n",
    "    def clean(s):\n",
    "        clean = ''.join(i for i in s if ord(i)<128).translate(str.maketrans('','', string.punctuation)).lower().replace('\\n',' ')\n",
    "        return clean\n",
    "    \n",
    "    def get_url(songartist_url):\n",
    "        url = 'https://genius.com/{}-lyrics'.format(songartist_url)\n",
    "        check_url = requests.get(url)\n",
    "        if check_url.status_code == 200:\n",
    "            return url\n",
    "        else:\n",
    "            return url\n",
    "        \n",
    "    def get_lyrics(url):\n",
    "        page = requests.get(url)        \n",
    "        #Scrape the song lyrics from the HTML\n",
    "        html = BeautifulSoup(page.text, \"html.parser\")\n",
    "        div = html.find(\"div\", class_=\"lyrics\")\n",
    "        if not div:\n",
    "            return None # Sometimes the lyrics section isn't found\n",
    "\n",
    "        # Scrape lyrics if proper section was found on page\n",
    "        lyrics = div.get_text()\n",
    "        # Remove [Verse], [Bridge], etc.\n",
    "        #lyrics = re.sub('(\\[.*?\\])*', '', lyrics)\n",
    "        #lyrics = re.sub('\\n{2}', ' ', lyrics)  # Gaps between verses\n",
    "        return lyrics\n",
    "\n",
    "        \n",
    "        \n",
    "        \n",
    "        \n",
    "        "
   ]
  },
  {
   "cell_type": "code",
   "execution_count": 6,
   "metadata": {
    "colab": {
     "base_uri": "https://localhost:8080/",
     "height": 51
    },
    "colab_type": "code",
    "id": "AIOzhYB7UEM2",
    "outputId": "c8f182f9-5062-480e-c30c-1164efaeba0f"
   },
   "outputs": [
    {
     "name": "stdout",
     "output_type": "stream",
     "text": [
      "Not Found: al di meola-medley short tales of the black forest\n",
      "Not Found: al di meola-nena\n",
      "Not Found: al di meola-island dreamer\n",
      "Not Found: al di meola-theme to the mothership\n",
      "Not Found: al di meola-san marco moderna\n",
      "Not Found: al di meola-odyssey\n",
      "Not Found: al di meola-tao\n",
      "Not Found: al di meola-azucar\n",
      "Not Found: al di meola-sanctuary\n",
      "Not Found: al di meola-hypnose\n",
      "Not Found: al di meola-red moon\n",
      "Not Found: al di meola-cry for you\n",
      "Not Found: al di meola-just three words\n",
      "Not Found: al di meola-tempest\n",
      "Not Found: al di meola-storm off\n",
      "Not Found: al di meola-black pearls\n",
      "Not Found: al di meola-africana suite\n",
      "Not Found: al di meola-san marco vecchio\n",
      "Not Found: al di meola  leonid agutin-cosmopolitan life\n",
      "Not Found: al di meola  leonid agutin-cuba africa\n",
      "Not Found: al di meola  leonid agutin-price to learn\n",
      "Not Found: al di meola  leonid agutin-nobody\n",
      "Not Found: al di meola  leonid agutin-portofino\n",
      "Not Found: al di meola  leonid agutin-tango\n",
      "Not Found: al di meola  leonid agutin-smile\n",
      "Not Found: al di meola  leonid agutin-if ill get a chance\n",
      "Not Found: al di meola  leonid agutin-blue river\n",
      "Not Found: al di meola  leonid agutin-shade of your world\n",
      "Not Found: al di meola  leonid agutin-track 11\n",
      "Not Found: al di meola-tango suite pt 1\n",
      "Not Found: al di meola-cafe\n",
      "Not Found: al di meola-tango suite pt 3\n",
      "Not Found: al di meola-zona desperata\n",
      "Not Found: al di meola-flesh on flesh\n",
      "Not Found: al di meola-innamorata\n",
      "Not Found: al di meola-meninas\n",
      "Not Found: al di meola-deep and madly\n",
      "Not Found: al di meola-fugata\n",
      "Not Found: al di meola-saffire soleil\n",
      "Not Found: paco de lucia-mediterranean sundancerio ancho\n",
      "Not Found: paco de lucia-short tales of the black forest\n",
      "Not Found: paco de lucia-frevo rasgado\n",
      "Not Found: paco de lucia-fantasia suite\n",
      "Not Found: paco de lucia-guardian angel\n"
     ]
    }
   ],
   "source": [
    "headers = [\"artist\",\"song\",\"lyrics\"]\n",
    "spotify_list = []\n",
    "rapgenius_list = []\n",
    "music_dbfile = \"Data/Final.txt\"\n",
    "fn = \"song.txt\"\n",
    "lyrics = 0\n",
    "counter = 0\n",
    "delimiter = '|'\n",
    "kickout=[]\n",
    "\n",
    "start = time.time()\n",
    "with open(music_dbfile,'r') as musicfile:\n",
    "    next(musicfile) #Skip header row\n",
    "    head = [next(musicfile) for x in range(85)]\n",
    "\n",
    "    with open(fn, \"w+\") as outfile:\n",
    "        for line in head:\n",
    "            current = line.split('-')\n",
    "            song_name = SSP.clean(current[2]).strip()\n",
    "            artist_name = SSP.clean(current[0])\n",
    "            songartist = (artist_name+song_name)\n",
    "            songartist_url = songartist.replace(' ','-') \n",
    "            genius = lyricsgenius.Genius(\"CLMJDhT2HYCbiXT9grKoh3LZ2hjiCRuvYYxTOj3lARJgM03frK2k739jf9UwDxFs\")\n",
    "            \n",
    "            try:\n",
    "                link = SSP.get_url(songartist_url)\n",
    "                lyrics = SSP.get_lyrics(link)\n",
    "                lyrics = SSP.lyrics_clean(lyrics)\n",
    "                try:\n",
    "                    outfile.write('{a}{d}{t}{d}{l}{n}'.format(a=artist_name.strip(),t=song_name.lstrip(),d=delimiter,l=lyrics,n='\\n'))\n",
    "                except:\n",
    "                    print('Error while writing file')\n",
    "            except:\n",
    "                print('Not Found: {a}-{t}'.format(a=artist_name.strip(),t=song_name.lstrip()))\n",
    "                kickout.append('{a}-{t}'.format(a=artist_name.strip(),t=song_name.lstrip()))\n",
    "            \n",
    "                \n",
    "        end = time.time()\n",
    "        duration = str((end - start))\n",
    "        outfile.write(duration)"
   ]
  },
  {
   "cell_type": "code",
   "execution_count": null,
   "metadata": {},
   "outputs": [],
   "source": [
    "kickout"
   ]
  },
  {
   "cell_type": "code",
   "execution_count": 22,
   "metadata": {},
   "outputs": [
    {
     "data": {
      "text/plain": [
       "\"\\n    fulltitle = _removeNonAscii(result['full_title'].translate(str.maketrans('','', string.punctuation))).replace('by',' ').replace(' ','').lower().strip()\\n    if not fulltitle==comparison_clean(title=title,artist=artist):\\n        print('Not Found: Title and Artist in Genius')\\n        return None\\n    \\n    # Exit search if there were no results returned from API\\n    valid = genius._result_is_lyrics(result['title']) if genius.skip_non_songs else True\\n    if not valid:\\n        print('Specified song does not contain lyrics. Rejecting.')\\n        return None\\n    song_info = result.copy()\\n    return song_info\\n\\n\""
      ]
     },
     "execution_count": 22,
     "metadata": {},
     "output_type": "execute_result"
    }
   ],
   "source": [
    "    '''\n",
    "        fulltitle = _removeNonAscii(result['full_title'].translate(str.maketrans('','', string.punctuation))).replace('by',' ').replace(' ','').lower().strip()\n",
    "        if not fulltitle==comparison_clean(title=title,artist=artist):\n",
    "            print('Not Found: Title and Artist in Genius')\n",
    "            return None\n",
    "        \n",
    "        # Exit search if there were no results returned from API\n",
    "        valid = genius._result_is_lyrics(result['title']) if genius.skip_non_songs else True\n",
    "        if not valid:\n",
    "            print('Specified song does not contain lyrics. Rejecting.')\n",
    "            return None\n",
    "        song_info = result.copy()\n",
    "        return song_info\n",
    "    \n",
    "    '''"
   ]
  },
  {
   "cell_type": "code",
   "execution_count": null,
   "metadata": {},
   "outputs": [],
   "source": [
    "'''     \n",
    "                outfile.write(current[0].strip()+delimiter)\n",
    "                outfile.write(current[2].strip()+delimiter)\n",
    "                outfile.write(lyrics)\n",
    "                outfile.write('\\n')\n",
    "            except:\n",
    "                continue\n",
    "                counter += 1\n",
    "    end = time.time()\n",
    "    duration = str((end - start))\n",
    "'''"
   ]
  },
  {
   "cell_type": "code",
   "execution_count": 125,
   "metadata": {
    "colab": {
     "base_uri": "https://localhost:8080/",
     "height": 54
    },
    "colab_type": "code",
    "id": "lPsNuwA4eukg",
    "outputId": "692c34fc-77a0-4bdb-d082-1ef93382f4d0"
   },
   "outputs": [
    {
     "name": "stdout",
     "output_type": "stream",
     "text": [
      "Al Di Meola   01  0\n"
     ]
    }
   ],
   "source": [
    "print(current[0],current[1],lyrics)#https://genius.com/Caribou-magpie-lyrics"
   ]
  },
  {
   "cell_type": "code",
   "execution_count": 149,
   "metadata": {},
   "outputs": [
    {
     "data": {
      "text/plain": [
       "True"
      ]
     },
     "execution_count": 149,
     "metadata": {},
     "output_type": "execute_result"
    }
   ],
   "source": [
    "'landofthemidnightsunaldimeola'=='landofthemidnightsunaldimeola'"
   ]
  },
  {
   "cell_type": "code",
   "execution_count": null,
   "metadata": {},
   "outputs": [],
   "source": []
  }
 ],
 "metadata": {
  "colab": {
   "collapsed_sections": [],
   "name": "genius_spotify_test.ipynb",
   "provenance": []
  },
  "kernelspec": {
   "display_name": "Python 3",
   "language": "python",
   "name": "python3"
  },
  "language_info": {
   "codemirror_mode": {
    "name": "ipython",
    "version": 3
   },
   "file_extension": ".py",
   "mimetype": "text/x-python",
   "name": "python",
   "nbconvert_exporter": "python",
   "pygments_lexer": "ipython3",
   "version": "3.7.4"
  }
 },
 "nbformat": 4,
 "nbformat_minor": 1
}
