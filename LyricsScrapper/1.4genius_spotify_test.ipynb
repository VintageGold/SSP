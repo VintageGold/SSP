{
 "cells": [
  {
   "cell_type": "code",
   "execution_count": 1,
   "metadata": {
    "colab": {
     "base_uri": "https://localhost:8080/",
     "height": 156
    },
    "colab_type": "code",
    "id": "VldzMZUDUReN",
    "outputId": "ab2d434b-ad9e-4a2b-8324-71893c471d4a"
   },
   "outputs": [
    {
     "name": "stdout",
     "output_type": "stream",
     "text": [
      "Requirement already satisfied: lyricsgenius in /Users/adamgoldstein/opt/anaconda3/lib/python3.7/site-packages (1.8.2)\n",
      "Collecting beautifulsoup4==4.6.0 (from lyricsgenius)\n",
      "  Using cached https://files.pythonhosted.org/packages/9e/d4/10f46e5cfac773e22707237bfcd51bbffeaf0a576b0a847ec7ab15bd7ace/beautifulsoup4-4.6.0-py3-none-any.whl\n",
      "Requirement already satisfied: requests>=2.20.0 in /Users/adamgoldstein/opt/anaconda3/lib/python3.7/site-packages (from lyricsgenius) (2.22.0)\n",
      "Requirement already satisfied: urllib3!=1.25.0,!=1.25.1,<1.26,>=1.21.1 in /Users/adamgoldstein/opt/anaconda3/lib/python3.7/site-packages (from requests>=2.20.0->lyricsgenius) (1.24.2)\n",
      "Requirement already satisfied: idna<2.9,>=2.5 in /Users/adamgoldstein/opt/anaconda3/lib/python3.7/site-packages (from requests>=2.20.0->lyricsgenius) (2.8)\n",
      "Requirement already satisfied: certifi>=2017.4.17 in /Users/adamgoldstein/opt/anaconda3/lib/python3.7/site-packages (from requests>=2.20.0->lyricsgenius) (2019.9.11)\n",
      "Requirement already satisfied: chardet<3.1.0,>=3.0.2 in /Users/adamgoldstein/opt/anaconda3/lib/python3.7/site-packages (from requests>=2.20.0->lyricsgenius) (3.0.4)\n",
      "\u001b[31mERROR: textract 1.6.3 has requirement beautifulsoup4==4.8.0, but you'll have beautifulsoup4 4.6.0 which is incompatible.\u001b[0m\n",
      "Installing collected packages: beautifulsoup4\n",
      "  Found existing installation: beautifulsoup4 4.8.0\n",
      "    Uninstalling beautifulsoup4-4.8.0:\n",
      "      Successfully uninstalled beautifulsoup4-4.8.0\n",
      "Successfully installed beautifulsoup4-4.6.0\n"
     ]
    }
   ],
   "source": [
    "!pip install lyricsgenius"
   ]
  },
  {
   "cell_type": "code",
   "execution_count": 109,
   "metadata": {
    "colab": {},
    "colab_type": "code",
    "id": "zafXzoFZUEMr"
   },
   "outputs": [],
   "source": [
    "#import lyricsgenius as lg\n",
    "import string\n",
    "import time\n",
    "import requests\n",
    "import csv\n",
    "import pandas as pd\n",
    "import re\n",
    "from bs4 import BeautifulSoup"
   ]
  },
  {
   "cell_type": "code",
   "execution_count": 115,
   "metadata": {},
   "outputs": [],
   "source": [
    "class SSP():\n",
    "    \n",
    "    def clean(s):\n",
    "        s = s.replace('&','and')\n",
    "        punc = string.punctuation.replace('\\\"','')\n",
    "        punc = punc.replace('\\'','')\n",
    "        for x in punc:\n",
    "            clean1 = s.split(x)\n",
    "            clean = clean1[0]\n",
    "            if clean is None:\n",
    "                return None\n",
    "            if re.match(\"^[a-zA-Z0-9_ ]*$\", clean):\n",
    "                clean = clean.strip()\n",
    "                return clean\n",
    "        \n",
    "    \n",
    "    def get_url(songartist_url):\n",
    "        url = 'http://www.absolutelyrics.com/lyrics/view/{}'.format(songartist_url)\n",
    "        return url\n",
    "        \n",
    "    def get_lyrics(url):\n",
    "        #time.sleep(2)\n",
    "        page = requests.get(url)#headers={'User-Agent': 'Div class lyrics (adamgoldsteindatascience@gmail.com)'}\n",
    "        #Scrape the song lyrics from the HTML\n",
    "        \n",
    "        html = BeautifulSoup(page.text, \"html.parser\")\n",
    "        div = html.find(id=\"view_lyrics\")\n",
    "        #if not div:\n",
    "        #    return None # Sometimes the lyrics section isn't found\n",
    "\n",
    "        # Scrape lyrics if proper section was found on page\n",
    "        if div is None:\n",
    "            return None\n",
    "        \n",
    "        lyrics = div.get_text()\n",
    "        # Remove [Verse], [Bridge], etc.\n",
    "        #lyrics = re.sub('(\\[.*?\\])*', '', lyrics)\n",
    "        #lyrics = re.sub('\\n', ' ', lyrics)  # Gaps between verses\n",
    "        return lyrics\n",
    "\n",
    "        \n",
    "        \n",
    "        \n",
    "        \n",
    "        "
   ]
  },
  {
   "cell_type": "code",
   "execution_count": 116,
   "metadata": {},
   "outputs": [
    {
     "name": "stdout",
     "output_type": "stream",
     "text": [
      "1 True http://www.absolutelyrics.com/lyrics/view/Mike_Reed/Grace_Under_Pressure\n",
      "2 1qQudQbHnq56UGuTndqsnQ {'track_uri': '1qQudQbHnq56UGuTndqsnQ', 'issue': 'Sullivan'}\n",
      "3 True http://www.absolutelyrics.com/lyrics/view/William_Aura/Timeless_I\n",
      "4 True http://www.absolutelyrics.com/lyrics/view/Journey/Natural_Thing\n",
      "5 True http://www.absolutelyrics.com/lyrics/view/Gare_Du_Nord/Gimme_That_Sexy_Thing\n",
      "6 True http://www.absolutelyrics.com/lyrics/view/Nanci_Griffith/Roses_on_the_4th_of_July\n",
      "7 True http://www.absolutelyrics.com/lyrics/view/Andrea_Bocelli/Amapola\n",
      "8 True http://www.absolutelyrics.com/lyrics/view/The_Love_Unlimited_Orchestra/Fix_You\n",
      "9 True http://www.absolutelyrics.com/lyrics/view/Robert_Plant/Carving_up_the_World_Again\n",
      "10 True http://www.absolutelyrics.com/lyrics/view/Elvis_Presley/Memories\n",
      "11 True http://www.absolutelyrics.com/lyrics/view/Pratt_and_McClain/Dancing_In_the_City\n",
      "12 True http://www.absolutelyrics.com/lyrics/view/Scott_Johnson/Iron_Wave_Cap_Thugs\n",
      "13 True http://www.absolutelyrics.com/lyrics/view/Alasdair_Roberts/The_Tri\n",
      "14 4vFFkNEzWwmyhavKtl5GFw {'track_uri': '4vFFkNEzWwmyhavKtl5GFw', 'issue': 'Where My Heart Begins'}\n",
      "15 True http://www.absolutelyrics.com/lyrics/view/Four_Tet/128_Harps\n",
      "16 True http://www.absolutelyrics.com/lyrics/view/The_Watson_Twins/This_Holiday\n",
      "17 True http://www.absolutelyrics.com/lyrics/view/Graham_Coxon/Locked_Doors\n",
      "18 True http://www.absolutelyrics.com/lyrics/view/William_Grant_Still/Wood_Notes\n",
      "19 True http://www.absolutelyrics.com/lyrics/view/JT_The_Bigga_Figga/Compton_Niggaz\n",
      "20 True http://www.absolutelyrics.com/lyrics/view/Warren_Haynes/Fire_In_The_Kitchen\n",
      "21 True http://www.absolutelyrics.com/lyrics/view/Micky_and_The_Motorcars/Raise_My_Glass\n",
      "22 True http://www.absolutelyrics.com/lyrics/view/Loscil/Equivalent_6\n",
      "23 True http://www.absolutelyrics.com/lyrics/view/Slash/Sugar_Cane\n",
      "24 5fl14lRfJREVJyLlNcRxCF {'track_uri': '5fl14lRfJREVJyLlNcRxCF', 'issue': None}\n",
      "25 True http://www.absolutelyrics.com/lyrics/view/The_Karl_Hendricks_Trio/Nogales_By_Tuesday\n",
      "26 True http://www.absolutelyrics.com/lyrics/view/Joe_Williams/The_Comeback\n",
      "27 True http://www.absolutelyrics.com/lyrics/view/Big_Joe_Williams/Some_Day_Baby\n",
      "28 True http://www.absolutelyrics.com/lyrics/view/Mississippi_John_Hurt/I_Shall_Not_Be_Moved\n",
      "29 True http://www.absolutelyrics.com/lyrics/view/Sonja_Marie/Boom_Shaka\n",
      "30 True http://www.absolutelyrics.com/lyrics/view/Brian_McKnight/Get_U_Into_My_Life\n",
      "31 True http://www.absolutelyrics.com/lyrics/view/Corea/Captain_Marvel\n",
      "32 0ps8I6IxRKbQdeLOejxYhx {'track_uri': '0ps8I6IxRKbQdeLOejxYhx', 'issue': None}\n",
      "33 True http://www.absolutelyrics.com/lyrics/view/Steve_Curry/Scapegoat\n",
      "34 True http://www.absolutelyrics.com/lyrics/view/Usher/I_Care_For_U\n",
      "35 True http://www.absolutelyrics.com/lyrics/view/America/You_Can_Do_Magic\n",
      "36 True http://www.absolutelyrics.com/lyrics/view/Roy_Montgomery/A_Chorus_of_Comsats\n",
      "37 True http://www.absolutelyrics.com/lyrics/view/Echolyn/Lunch_in_the_Sun\n",
      "38 True http://www.absolutelyrics.com/lyrics/view/Victor_Trent_Cook/Legalize_My_Name\n",
      "39 True http://www.absolutelyrics.com/lyrics/view/Iona_Brown/Serenade_No\n",
      "40 6RK1d0bCeIjYxOtvQ81smO {'track_uri': '6RK1d0bCeIjYxOtvQ81smO', 'issue': None}\n",
      "41 True http://www.absolutelyrics.com/lyrics/view/Nigel_North/Fantasia_No\n",
      "42 True http://www.absolutelyrics.com/lyrics/view/Vital_Information_NYC_Edition/Rhythm\n",
      "43 True http://www.absolutelyrics.com/lyrics/view/Fountains_Of_Wayne/Firelight_Waltz\n",
      "44 True http://www.absolutelyrics.com/lyrics/view/BUZZ_THE_BEARS/10YEARS\n",
      "45 True http://www.absolutelyrics.com/lyrics/view/Anna_Meredith/A_Lot_At_Once\n",
      "46 True http://www.absolutelyrics.com/lyrics/view/Kaissa/Kong\n",
      "47 True http://www.absolutelyrics.com/lyrics/view/Stacie_Orrico/Everything\n",
      "48 True http://www.absolutelyrics.com/lyrics/view/Nada_Surf/Are_You_Lightning\n",
      "49 656SVqB7nkE9Sn32C96DOu {'track_uri': '656SVqB7nkE9Sn32C96DOu', 'issue': None}\n",
      "50 True http://www.absolutelyrics.com/lyrics/view/Dave_Samuels/One_Study_One_Summary\n",
      "51 True http://www.absolutelyrics.com/lyrics/view/Bushman/Kazzaz\n",
      "52 True http://www.absolutelyrics.com/lyrics/view/The_Electric_Prunes/Hey_Mr\n",
      "53 True http://www.absolutelyrics.com/lyrics/view/Procol_Harum/The_Idol\n",
      "54 True http://www.absolutelyrics.com/lyrics/view/Chase_Rice/Unforgettable\n",
      "55 True http://www.absolutelyrics.com/lyrics/view/Bob_Ravenscroft/In_the_Bleak_Midwinter\n",
      "56 True http://www.absolutelyrics.com/lyrics/view/Rebirth_Brass_Band/The_Dilemma\n",
      "57 True http://www.absolutelyrics.com/lyrics/view/Cul_De_Sac/The_Kim_Parker_Report\n",
      "58 True http://www.absolutelyrics.com/lyrics/view/Earl_Bostic/El_Chocio_Cha_Cha\n",
      "59 True http://www.absolutelyrics.com/lyrics/view/The_Emotions/Flowers\n",
      "60 True http://www.absolutelyrics.com/lyrics/view/Phantom_Planet/After_Hours\n",
      "61 True http://www.absolutelyrics.com/lyrics/view/Otha_Turner_and_The_Rising_Star_Fife_and_Drum_Band/Jesus_Is_On_The_Mainline\n",
      "62 True http://www.absolutelyrics.com/lyrics/view/A_Perfect_Circle/3_Libras\n",
      "63 True http://www.absolutelyrics.com/lyrics/view/Bob_Gibson/Springfield_Mountain\n",
      "64 True http://www.absolutelyrics.com/lyrics/view/Ojay_the_Great/My_Shit\n",
      "65 True http://www.absolutelyrics.com/lyrics/view/Ludwig_van_Beethoven/Symphony_No\n",
      "66 True http://www.absolutelyrics.com/lyrics/view/Tanita_Tikaram/One_Kiss\n",
      "67 True http://www.absolutelyrics.com/lyrics/view/Game_Theory/Dead_Center\n",
      "68 True http://www.absolutelyrics.com/lyrics/view/Caribbean_Jazz_Project/Andalucia\n",
      "69 True http://www.absolutelyrics.com/lyrics/view/The_Tubes/Ghost_Riders_in_the_Sky\n",
      "70 True http://www.absolutelyrics.com/lyrics/view/Spyro_Gyra/Clubhouse_Jam\n",
      "71 True http://www.absolutelyrics.com/lyrics/view/Lou_Reed/Cheat_On_Me\n",
      "72 True http://www.absolutelyrics.com/lyrics/view/Le_Trio_Cadien/Oh_Negresse\n",
      "73 True http://www.absolutelyrics.com/lyrics/view/Gordon_Lightfoot/Ribbon_Of_Darkness\n",
      "74 True http://www.absolutelyrics.com/lyrics/view/Groove_Kings/My_Little_Candy\n",
      "75 True http://www.absolutelyrics.com/lyrics/view/Jenny_Lewis/Acid_Tongue\n",
      "76 True http://www.absolutelyrics.com/lyrics/view/Nickel_Creek/One_More_Shot\n",
      "77 True http://www.absolutelyrics.com/lyrics/view/Radio_Birdman/Zeno_Beach\n",
      "78 True http://www.absolutelyrics.com/lyrics/view/Pistol_Annies/Mine_Would_Be_You\n",
      "79 True http://www.absolutelyrics.com/lyrics/view/Delbert_McClinton/Tina\n",
      "80 True http://www.absolutelyrics.com/lyrics/view/Tobias_Jesso_Jr/Push_The_Sky_Away\n",
      "81 7wiTMbNubtGElxwKbtN5Ik {'track_uri': '7wiTMbNubtGElxwKbtN5Ik', 'issue': None}\n",
      "82 True http://www.absolutelyrics.com/lyrics/view/Jill_Scott/Cruisin\n",
      "83 True http://www.absolutelyrics.com/lyrics/view/Preservation_Hall_Jazz_Band/Descarga_del_Son\n",
      "84 True http://www.absolutelyrics.com/lyrics/view/Jean_Carter/Landing\n",
      "85 True http://www.absolutelyrics.com/lyrics/view/Between_The_Buried_And_Me/Telos\n",
      "86 True http://www.absolutelyrics.com/lyrics/view/Idaho/Rope\n",
      "87 1t4BTFh8O8btT0qzuZAILn {'track_uri': '1t4BTFh8O8btT0qzuZAILn', 'issue': None}\n",
      "88 True http://www.absolutelyrics.com/lyrics/view/Opeth/Continuum\n",
      "89 True http://www.absolutelyrics.com/lyrics/view/Billy_Butler/Hold_It\n",
      "90 True http://www.absolutelyrics.com/lyrics/view/Commodores/United_In_Love\n",
      "91 True http://www.absolutelyrics.com/lyrics/view/Hugh_Masekela/Ibala_Lam\n",
      "92 True http://www.absolutelyrics.com/lyrics/view/Mabel_Mercer/Over_The_Weekend\n",
      "93 True http://www.absolutelyrics.com/lyrics/view/lovelytheband/everything_I_could_never_say\n",
      "94 True http://www.absolutelyrics.com/lyrics/view/Michael_Chance/Lady_If_You_so_Spite_Me\n",
      "95 33GleaBLlNBpf6myJ0VISM {'track_uri': '33GleaBLlNBpf6myJ0VISM', 'issue': None}\n",
      "96 True http://www.absolutelyrics.com/lyrics/view/Gary_U/Copy_Cat\n",
      "97 True http://www.absolutelyrics.com/lyrics/view/Kenny_Neal/The_Son_I_Never_Knew\n",
      "98 True http://www.absolutelyrics.com/lyrics/view/Tauk/When_in_Doubt\n",
      "99 True http://www.absolutelyrics.com/lyrics/view/Pat_Green/Southbound_35\n",
      "100 True http://www.absolutelyrics.com/lyrics/view/William_Clarke/Iodine_In_My_Coffee\n",
      "101 True http://www.absolutelyrics.com/lyrics/view/The_Derailers/Under_The_Influence_Of_Love\n",
      "102 True http://www.absolutelyrics.com/lyrics/view/Pedro_The_Lion/When_They_Realy_Get_To_Know_You_They_Will_Run\n",
      "103 True http://www.absolutelyrics.com/lyrics/view/Sparks_The_Rescue/Pine_Tree_State\n",
      "104 True http://www.absolutelyrics.com/lyrics/view/Timbaland/3\n"
     ]
    },
    {
     "name": "stdout",
     "output_type": "stream",
     "text": [
      "105 True http://www.absolutelyrics.com/lyrics/view/Hans_Zimmer/Honor_Him\n",
      "106 5vICxX1XkpkaZgsSADhoHc {'track_uri': '5vICxX1XkpkaZgsSADhoHc', 'issue': None}\n",
      "107 True http://www.absolutelyrics.com/lyrics/view/The_Beatles/And_Here_We_Are_Again\n",
      "108 4GLlMtmMGKdDFFcnk8JnwN {'track_uri': '4GLlMtmMGKdDFFcnk8JnwN', 'issue': 'Play A Simple Melody'}\n",
      "109 True http://www.absolutelyrics.com/lyrics/view/Itzhak_Perlman/Kreisler\n",
      "110 True http://www.absolutelyrics.com/lyrics/view/Fearless_Motivation/Reinvent_Yourself\n",
      "111 True http://www.absolutelyrics.com/lyrics/view/Twenty_One_Pilots/Ode_to_Sleep\n",
      "112 4dizR5ps7OK8uVY2bUcXLb {'track_uri': '4dizR5ps7OK8uVY2bUcXLb', 'issue': None}\n",
      "113 True http://www.absolutelyrics.com/lyrics/view/George_Frideric_Handel/Joshua\n",
      "114 True http://www.absolutelyrics.com/lyrics/view/Wall_Of_Voodoo/Good_Times\n",
      "115 0kLOAyvEvNlqio9q1Y92LY {'track_uri': '0kLOAyvEvNlqio9q1Y92LY', 'issue': None}\n",
      "116 True http://www.absolutelyrics.com/lyrics/view/Jimmy_Smith/Autumn_Leaves\n",
      "117 6Hji9NVapyYIbGyWRBGXRK {'track_uri': '6Hji9NVapyYIbGyWRBGXRK', 'issue': None}\n"
     ]
    },
    {
     "ename": "ConnectionError",
     "evalue": "('Connection aborted.', RemoteDisconnected('Remote end closed connection without response'))",
     "output_type": "error",
     "traceback": [
      "\u001b[0;31m---------------------------------------------------------------------------\u001b[0m",
      "\u001b[0;31mRemoteDisconnected\u001b[0m                        Traceback (most recent call last)",
      "\u001b[0;32m~/opt/anaconda3/lib/python3.7/site-packages/urllib3/connectionpool.py\u001b[0m in \u001b[0;36murlopen\u001b[0;34m(self, method, url, body, headers, retries, redirect, assert_same_host, timeout, pool_timeout, release_conn, chunked, body_pos, **response_kw)\u001b[0m\n\u001b[1;32m    599\u001b[0m                                                   \u001b[0mbody\u001b[0m\u001b[0;34m=\u001b[0m\u001b[0mbody\u001b[0m\u001b[0;34m,\u001b[0m \u001b[0mheaders\u001b[0m\u001b[0;34m=\u001b[0m\u001b[0mheaders\u001b[0m\u001b[0;34m,\u001b[0m\u001b[0;34m\u001b[0m\u001b[0;34m\u001b[0m\u001b[0m\n\u001b[0;32m--> 600\u001b[0;31m                                                   chunked=chunked)\n\u001b[0m\u001b[1;32m    601\u001b[0m \u001b[0;34m\u001b[0m\u001b[0m\n",
      "\u001b[0;32m~/opt/anaconda3/lib/python3.7/site-packages/urllib3/connectionpool.py\u001b[0m in \u001b[0;36m_make_request\u001b[0;34m(self, conn, method, url, timeout, chunked, **httplib_request_kw)\u001b[0m\n\u001b[1;32m    383\u001b[0m                     \u001b[0;31m# otherwise it looks like a programming error was the cause.\u001b[0m\u001b[0;34m\u001b[0m\u001b[0;34m\u001b[0m\u001b[0;34m\u001b[0m\u001b[0m\n\u001b[0;32m--> 384\u001b[0;31m                     \u001b[0msix\u001b[0m\u001b[0;34m.\u001b[0m\u001b[0mraise_from\u001b[0m\u001b[0;34m(\u001b[0m\u001b[0me\u001b[0m\u001b[0;34m,\u001b[0m \u001b[0;32mNone\u001b[0m\u001b[0;34m)\u001b[0m\u001b[0;34m\u001b[0m\u001b[0;34m\u001b[0m\u001b[0m\n\u001b[0m\u001b[1;32m    385\u001b[0m         \u001b[0;32mexcept\u001b[0m \u001b[0;34m(\u001b[0m\u001b[0mSocketTimeout\u001b[0m\u001b[0;34m,\u001b[0m \u001b[0mBaseSSLError\u001b[0m\u001b[0;34m,\u001b[0m \u001b[0mSocketError\u001b[0m\u001b[0;34m)\u001b[0m \u001b[0;32mas\u001b[0m \u001b[0me\u001b[0m\u001b[0;34m:\u001b[0m\u001b[0;34m\u001b[0m\u001b[0;34m\u001b[0m\u001b[0m\n",
      "\u001b[0;32m~/opt/anaconda3/lib/python3.7/site-packages/urllib3/packages/six.py\u001b[0m in \u001b[0;36mraise_from\u001b[0;34m(value, from_value)\u001b[0m\n",
      "\u001b[0;32m~/opt/anaconda3/lib/python3.7/site-packages/urllib3/connectionpool.py\u001b[0m in \u001b[0;36m_make_request\u001b[0;34m(self, conn, method, url, timeout, chunked, **httplib_request_kw)\u001b[0m\n\u001b[1;32m    379\u001b[0m                 \u001b[0;32mtry\u001b[0m\u001b[0;34m:\u001b[0m\u001b[0;34m\u001b[0m\u001b[0;34m\u001b[0m\u001b[0m\n\u001b[0;32m--> 380\u001b[0;31m                     \u001b[0mhttplib_response\u001b[0m \u001b[0;34m=\u001b[0m \u001b[0mconn\u001b[0m\u001b[0;34m.\u001b[0m\u001b[0mgetresponse\u001b[0m\u001b[0;34m(\u001b[0m\u001b[0;34m)\u001b[0m\u001b[0;34m\u001b[0m\u001b[0;34m\u001b[0m\u001b[0m\n\u001b[0m\u001b[1;32m    381\u001b[0m                 \u001b[0;32mexcept\u001b[0m \u001b[0mException\u001b[0m \u001b[0;32mas\u001b[0m \u001b[0me\u001b[0m\u001b[0;34m:\u001b[0m\u001b[0;34m\u001b[0m\u001b[0;34m\u001b[0m\u001b[0m\n",
      "\u001b[0;32m~/opt/anaconda3/lib/python3.7/http/client.py\u001b[0m in \u001b[0;36mgetresponse\u001b[0;34m(self)\u001b[0m\n\u001b[1;32m   1335\u001b[0m             \u001b[0;32mtry\u001b[0m\u001b[0;34m:\u001b[0m\u001b[0;34m\u001b[0m\u001b[0;34m\u001b[0m\u001b[0m\n\u001b[0;32m-> 1336\u001b[0;31m                 \u001b[0mresponse\u001b[0m\u001b[0;34m.\u001b[0m\u001b[0mbegin\u001b[0m\u001b[0;34m(\u001b[0m\u001b[0;34m)\u001b[0m\u001b[0;34m\u001b[0m\u001b[0;34m\u001b[0m\u001b[0m\n\u001b[0m\u001b[1;32m   1337\u001b[0m             \u001b[0;32mexcept\u001b[0m \u001b[0mConnectionError\u001b[0m\u001b[0;34m:\u001b[0m\u001b[0;34m\u001b[0m\u001b[0;34m\u001b[0m\u001b[0m\n",
      "\u001b[0;32m~/opt/anaconda3/lib/python3.7/http/client.py\u001b[0m in \u001b[0;36mbegin\u001b[0;34m(self)\u001b[0m\n\u001b[1;32m    305\u001b[0m         \u001b[0;32mwhile\u001b[0m \u001b[0;32mTrue\u001b[0m\u001b[0;34m:\u001b[0m\u001b[0;34m\u001b[0m\u001b[0;34m\u001b[0m\u001b[0m\n\u001b[0;32m--> 306\u001b[0;31m             \u001b[0mversion\u001b[0m\u001b[0;34m,\u001b[0m \u001b[0mstatus\u001b[0m\u001b[0;34m,\u001b[0m \u001b[0mreason\u001b[0m \u001b[0;34m=\u001b[0m \u001b[0mself\u001b[0m\u001b[0;34m.\u001b[0m\u001b[0m_read_status\u001b[0m\u001b[0;34m(\u001b[0m\u001b[0;34m)\u001b[0m\u001b[0;34m\u001b[0m\u001b[0;34m\u001b[0m\u001b[0m\n\u001b[0m\u001b[1;32m    307\u001b[0m             \u001b[0;32mif\u001b[0m \u001b[0mstatus\u001b[0m \u001b[0;34m!=\u001b[0m \u001b[0mCONTINUE\u001b[0m\u001b[0;34m:\u001b[0m\u001b[0;34m\u001b[0m\u001b[0;34m\u001b[0m\u001b[0m\n",
      "\u001b[0;32m~/opt/anaconda3/lib/python3.7/http/client.py\u001b[0m in \u001b[0;36m_read_status\u001b[0;34m(self)\u001b[0m\n\u001b[1;32m    274\u001b[0m             \u001b[0;31m# sending a valid response.\u001b[0m\u001b[0;34m\u001b[0m\u001b[0;34m\u001b[0m\u001b[0;34m\u001b[0m\u001b[0m\n\u001b[0;32m--> 275\u001b[0;31m             raise RemoteDisconnected(\"Remote end closed connection without\"\n\u001b[0m\u001b[1;32m    276\u001b[0m                                      \" response\")\n",
      "\u001b[0;31mRemoteDisconnected\u001b[0m: Remote end closed connection without response",
      "\nDuring handling of the above exception, another exception occurred:\n",
      "\u001b[0;31mProtocolError\u001b[0m                             Traceback (most recent call last)",
      "\u001b[0;32m~/opt/anaconda3/lib/python3.7/site-packages/requests/adapters.py\u001b[0m in \u001b[0;36msend\u001b[0;34m(self, request, stream, timeout, verify, cert, proxies)\u001b[0m\n\u001b[1;32m    448\u001b[0m                     \u001b[0mretries\u001b[0m\u001b[0;34m=\u001b[0m\u001b[0mself\u001b[0m\u001b[0;34m.\u001b[0m\u001b[0mmax_retries\u001b[0m\u001b[0;34m,\u001b[0m\u001b[0;34m\u001b[0m\u001b[0;34m\u001b[0m\u001b[0m\n\u001b[0;32m--> 449\u001b[0;31m                     \u001b[0mtimeout\u001b[0m\u001b[0;34m=\u001b[0m\u001b[0mtimeout\u001b[0m\u001b[0;34m\u001b[0m\u001b[0;34m\u001b[0m\u001b[0m\n\u001b[0m\u001b[1;32m    450\u001b[0m                 )\n",
      "\u001b[0;32m~/opt/anaconda3/lib/python3.7/site-packages/urllib3/connectionpool.py\u001b[0m in \u001b[0;36murlopen\u001b[0;34m(self, method, url, body, headers, retries, redirect, assert_same_host, timeout, pool_timeout, release_conn, chunked, body_pos, **response_kw)\u001b[0m\n\u001b[1;32m    637\u001b[0m             retries = retries.increment(method, url, error=e, _pool=self,\n\u001b[0;32m--> 638\u001b[0;31m                                         _stacktrace=sys.exc_info()[2])\n\u001b[0m\u001b[1;32m    639\u001b[0m             \u001b[0mretries\u001b[0m\u001b[0;34m.\u001b[0m\u001b[0msleep\u001b[0m\u001b[0;34m(\u001b[0m\u001b[0;34m)\u001b[0m\u001b[0;34m\u001b[0m\u001b[0;34m\u001b[0m\u001b[0m\n",
      "\u001b[0;32m~/opt/anaconda3/lib/python3.7/site-packages/urllib3/util/retry.py\u001b[0m in \u001b[0;36mincrement\u001b[0;34m(self, method, url, response, error, _pool, _stacktrace)\u001b[0m\n\u001b[1;32m    367\u001b[0m             \u001b[0;32mif\u001b[0m \u001b[0mread\u001b[0m \u001b[0;32mis\u001b[0m \u001b[0;32mFalse\u001b[0m \u001b[0;32mor\u001b[0m \u001b[0;32mnot\u001b[0m \u001b[0mself\u001b[0m\u001b[0;34m.\u001b[0m\u001b[0m_is_method_retryable\u001b[0m\u001b[0;34m(\u001b[0m\u001b[0mmethod\u001b[0m\u001b[0;34m)\u001b[0m\u001b[0;34m:\u001b[0m\u001b[0;34m\u001b[0m\u001b[0;34m\u001b[0m\u001b[0m\n\u001b[0;32m--> 368\u001b[0;31m                 \u001b[0;32mraise\u001b[0m \u001b[0msix\u001b[0m\u001b[0;34m.\u001b[0m\u001b[0mreraise\u001b[0m\u001b[0;34m(\u001b[0m\u001b[0mtype\u001b[0m\u001b[0;34m(\u001b[0m\u001b[0merror\u001b[0m\u001b[0;34m)\u001b[0m\u001b[0;34m,\u001b[0m \u001b[0merror\u001b[0m\u001b[0;34m,\u001b[0m \u001b[0m_stacktrace\u001b[0m\u001b[0;34m)\u001b[0m\u001b[0;34m\u001b[0m\u001b[0;34m\u001b[0m\u001b[0m\n\u001b[0m\u001b[1;32m    369\u001b[0m             \u001b[0;32melif\u001b[0m \u001b[0mread\u001b[0m \u001b[0;32mis\u001b[0m \u001b[0;32mnot\u001b[0m \u001b[0;32mNone\u001b[0m\u001b[0;34m:\u001b[0m\u001b[0;34m\u001b[0m\u001b[0;34m\u001b[0m\u001b[0m\n",
      "\u001b[0;32m~/opt/anaconda3/lib/python3.7/site-packages/urllib3/packages/six.py\u001b[0m in \u001b[0;36mreraise\u001b[0;34m(tp, value, tb)\u001b[0m\n\u001b[1;32m    684\u001b[0m         \u001b[0;32mif\u001b[0m \u001b[0mvalue\u001b[0m\u001b[0;34m.\u001b[0m\u001b[0m__traceback__\u001b[0m \u001b[0;32mis\u001b[0m \u001b[0;32mnot\u001b[0m \u001b[0mtb\u001b[0m\u001b[0;34m:\u001b[0m\u001b[0;34m\u001b[0m\u001b[0;34m\u001b[0m\u001b[0m\n\u001b[0;32m--> 685\u001b[0;31m             \u001b[0;32mraise\u001b[0m \u001b[0mvalue\u001b[0m\u001b[0;34m.\u001b[0m\u001b[0mwith_traceback\u001b[0m\u001b[0;34m(\u001b[0m\u001b[0mtb\u001b[0m\u001b[0;34m)\u001b[0m\u001b[0;34m\u001b[0m\u001b[0;34m\u001b[0m\u001b[0m\n\u001b[0m\u001b[1;32m    686\u001b[0m         \u001b[0;32mraise\u001b[0m \u001b[0mvalue\u001b[0m\u001b[0;34m\u001b[0m\u001b[0;34m\u001b[0m\u001b[0m\n",
      "\u001b[0;32m~/opt/anaconda3/lib/python3.7/site-packages/urllib3/connectionpool.py\u001b[0m in \u001b[0;36murlopen\u001b[0;34m(self, method, url, body, headers, retries, redirect, assert_same_host, timeout, pool_timeout, release_conn, chunked, body_pos, **response_kw)\u001b[0m\n\u001b[1;32m    599\u001b[0m                                                   \u001b[0mbody\u001b[0m\u001b[0;34m=\u001b[0m\u001b[0mbody\u001b[0m\u001b[0;34m,\u001b[0m \u001b[0mheaders\u001b[0m\u001b[0;34m=\u001b[0m\u001b[0mheaders\u001b[0m\u001b[0;34m,\u001b[0m\u001b[0;34m\u001b[0m\u001b[0;34m\u001b[0m\u001b[0m\n\u001b[0;32m--> 600\u001b[0;31m                                                   chunked=chunked)\n\u001b[0m\u001b[1;32m    601\u001b[0m \u001b[0;34m\u001b[0m\u001b[0m\n",
      "\u001b[0;32m~/opt/anaconda3/lib/python3.7/site-packages/urllib3/connectionpool.py\u001b[0m in \u001b[0;36m_make_request\u001b[0;34m(self, conn, method, url, timeout, chunked, **httplib_request_kw)\u001b[0m\n\u001b[1;32m    383\u001b[0m                     \u001b[0;31m# otherwise it looks like a programming error was the cause.\u001b[0m\u001b[0;34m\u001b[0m\u001b[0;34m\u001b[0m\u001b[0;34m\u001b[0m\u001b[0m\n\u001b[0;32m--> 384\u001b[0;31m                     \u001b[0msix\u001b[0m\u001b[0;34m.\u001b[0m\u001b[0mraise_from\u001b[0m\u001b[0;34m(\u001b[0m\u001b[0me\u001b[0m\u001b[0;34m,\u001b[0m \u001b[0;32mNone\u001b[0m\u001b[0;34m)\u001b[0m\u001b[0;34m\u001b[0m\u001b[0;34m\u001b[0m\u001b[0m\n\u001b[0m\u001b[1;32m    385\u001b[0m         \u001b[0;32mexcept\u001b[0m \u001b[0;34m(\u001b[0m\u001b[0mSocketTimeout\u001b[0m\u001b[0;34m,\u001b[0m \u001b[0mBaseSSLError\u001b[0m\u001b[0;34m,\u001b[0m \u001b[0mSocketError\u001b[0m\u001b[0;34m)\u001b[0m \u001b[0;32mas\u001b[0m \u001b[0me\u001b[0m\u001b[0;34m:\u001b[0m\u001b[0;34m\u001b[0m\u001b[0;34m\u001b[0m\u001b[0m\n",
      "\u001b[0;32m~/opt/anaconda3/lib/python3.7/site-packages/urllib3/packages/six.py\u001b[0m in \u001b[0;36mraise_from\u001b[0;34m(value, from_value)\u001b[0m\n",
      "\u001b[0;32m~/opt/anaconda3/lib/python3.7/site-packages/urllib3/connectionpool.py\u001b[0m in \u001b[0;36m_make_request\u001b[0;34m(self, conn, method, url, timeout, chunked, **httplib_request_kw)\u001b[0m\n\u001b[1;32m    379\u001b[0m                 \u001b[0;32mtry\u001b[0m\u001b[0;34m:\u001b[0m\u001b[0;34m\u001b[0m\u001b[0;34m\u001b[0m\u001b[0m\n\u001b[0;32m--> 380\u001b[0;31m                     \u001b[0mhttplib_response\u001b[0m \u001b[0;34m=\u001b[0m \u001b[0mconn\u001b[0m\u001b[0;34m.\u001b[0m\u001b[0mgetresponse\u001b[0m\u001b[0;34m(\u001b[0m\u001b[0;34m)\u001b[0m\u001b[0;34m\u001b[0m\u001b[0;34m\u001b[0m\u001b[0m\n\u001b[0m\u001b[1;32m    381\u001b[0m                 \u001b[0;32mexcept\u001b[0m \u001b[0mException\u001b[0m \u001b[0;32mas\u001b[0m \u001b[0me\u001b[0m\u001b[0;34m:\u001b[0m\u001b[0;34m\u001b[0m\u001b[0;34m\u001b[0m\u001b[0m\n",
      "\u001b[0;32m~/opt/anaconda3/lib/python3.7/http/client.py\u001b[0m in \u001b[0;36mgetresponse\u001b[0;34m(self)\u001b[0m\n\u001b[1;32m   1335\u001b[0m             \u001b[0;32mtry\u001b[0m\u001b[0;34m:\u001b[0m\u001b[0;34m\u001b[0m\u001b[0;34m\u001b[0m\u001b[0m\n\u001b[0;32m-> 1336\u001b[0;31m                 \u001b[0mresponse\u001b[0m\u001b[0;34m.\u001b[0m\u001b[0mbegin\u001b[0m\u001b[0;34m(\u001b[0m\u001b[0;34m)\u001b[0m\u001b[0;34m\u001b[0m\u001b[0;34m\u001b[0m\u001b[0m\n\u001b[0m\u001b[1;32m   1337\u001b[0m             \u001b[0;32mexcept\u001b[0m \u001b[0mConnectionError\u001b[0m\u001b[0;34m:\u001b[0m\u001b[0;34m\u001b[0m\u001b[0;34m\u001b[0m\u001b[0m\n",
      "\u001b[0;32m~/opt/anaconda3/lib/python3.7/http/client.py\u001b[0m in \u001b[0;36mbegin\u001b[0;34m(self)\u001b[0m\n\u001b[1;32m    305\u001b[0m         \u001b[0;32mwhile\u001b[0m \u001b[0;32mTrue\u001b[0m\u001b[0;34m:\u001b[0m\u001b[0;34m\u001b[0m\u001b[0;34m\u001b[0m\u001b[0m\n\u001b[0;32m--> 306\u001b[0;31m             \u001b[0mversion\u001b[0m\u001b[0;34m,\u001b[0m \u001b[0mstatus\u001b[0m\u001b[0;34m,\u001b[0m \u001b[0mreason\u001b[0m \u001b[0;34m=\u001b[0m \u001b[0mself\u001b[0m\u001b[0;34m.\u001b[0m\u001b[0m_read_status\u001b[0m\u001b[0;34m(\u001b[0m\u001b[0;34m)\u001b[0m\u001b[0;34m\u001b[0m\u001b[0;34m\u001b[0m\u001b[0m\n\u001b[0m\u001b[1;32m    307\u001b[0m             \u001b[0;32mif\u001b[0m \u001b[0mstatus\u001b[0m \u001b[0;34m!=\u001b[0m \u001b[0mCONTINUE\u001b[0m\u001b[0;34m:\u001b[0m\u001b[0;34m\u001b[0m\u001b[0;34m\u001b[0m\u001b[0m\n",
      "\u001b[0;32m~/opt/anaconda3/lib/python3.7/http/client.py\u001b[0m in \u001b[0;36m_read_status\u001b[0;34m(self)\u001b[0m\n\u001b[1;32m    274\u001b[0m             \u001b[0;31m# sending a valid response.\u001b[0m\u001b[0;34m\u001b[0m\u001b[0;34m\u001b[0m\u001b[0;34m\u001b[0m\u001b[0m\n\u001b[0;32m--> 275\u001b[0;31m             raise RemoteDisconnected(\"Remote end closed connection without\"\n\u001b[0m\u001b[1;32m    276\u001b[0m                                      \" response\")\n",
      "\u001b[0;31mProtocolError\u001b[0m: ('Connection aborted.', RemoteDisconnected('Remote end closed connection without response'))",
      "\nDuring handling of the above exception, another exception occurred:\n",
      "\u001b[0;31mConnectionError\u001b[0m                           Traceback (most recent call last)",
      "\u001b[0;32m<ipython-input-116-8ba0a21c1abd>\u001b[0m in \u001b[0;36m<module>\u001b[0;34m\u001b[0m\n\u001b[1;32m     30\u001b[0m         \u001b[0mlink\u001b[0m \u001b[0;34m=\u001b[0m \u001b[0mSSP\u001b[0m\u001b[0;34m.\u001b[0m\u001b[0mget_url\u001b[0m\u001b[0;34m(\u001b[0m\u001b[0msong_artist_url\u001b[0m\u001b[0;34m)\u001b[0m\u001b[0;34m\u001b[0m\u001b[0;34m\u001b[0m\u001b[0m\n\u001b[1;32m     31\u001b[0m \u001b[0;34m\u001b[0m\u001b[0m\n\u001b[0;32m---> 32\u001b[0;31m         \u001b[0mlyrics\u001b[0m \u001b[0;34m=\u001b[0m \u001b[0mSSP\u001b[0m\u001b[0;34m.\u001b[0m\u001b[0mget_lyrics\u001b[0m\u001b[0;34m(\u001b[0m\u001b[0mlink\u001b[0m\u001b[0;34m)\u001b[0m\u001b[0;34m\u001b[0m\u001b[0;34m\u001b[0m\u001b[0m\n\u001b[0m\u001b[1;32m     33\u001b[0m         \u001b[0mprint\u001b[0m\u001b[0;34m(\u001b[0m\u001b[0mi\u001b[0m\u001b[0;34m,\u001b[0m\u001b[0;32mTrue\u001b[0m\u001b[0;34m,\u001b[0m\u001b[0mlink\u001b[0m\u001b[0;34m)\u001b[0m\u001b[0;34m\u001b[0m\u001b[0;34m\u001b[0m\u001b[0m\n\u001b[1;32m     34\u001b[0m         Playlist_track_lyrics.append({'artist_name':artist_name,'track_uri':track_uri,'track_name':track_name\n",
      "\u001b[0;32m<ipython-input-115-202328b950ae>\u001b[0m in \u001b[0;36mget_lyrics\u001b[0;34m(url)\u001b[0m\n\u001b[1;32m     21\u001b[0m     \u001b[0;32mdef\u001b[0m \u001b[0mget_lyrics\u001b[0m\u001b[0;34m(\u001b[0m\u001b[0murl\u001b[0m\u001b[0;34m)\u001b[0m\u001b[0;34m:\u001b[0m\u001b[0;34m\u001b[0m\u001b[0;34m\u001b[0m\u001b[0m\n\u001b[1;32m     22\u001b[0m         \u001b[0;31m#time.sleep(2)\u001b[0m\u001b[0;34m\u001b[0m\u001b[0;34m\u001b[0m\u001b[0;34m\u001b[0m\u001b[0m\n\u001b[0;32m---> 23\u001b[0;31m         \u001b[0mpage\u001b[0m \u001b[0;34m=\u001b[0m \u001b[0mrequests\u001b[0m\u001b[0;34m.\u001b[0m\u001b[0mget\u001b[0m\u001b[0;34m(\u001b[0m\u001b[0murl\u001b[0m\u001b[0;34m)\u001b[0m\u001b[0;31m#headers={'User-Agent': 'Div class lyrics (adamgoldsteindatascience@gmail.com)'}\u001b[0m\u001b[0;34m\u001b[0m\u001b[0;34m\u001b[0m\u001b[0m\n\u001b[0m\u001b[1;32m     24\u001b[0m         \u001b[0;31m#Scrape the song lyrics from the HTML\u001b[0m\u001b[0;34m\u001b[0m\u001b[0;34m\u001b[0m\u001b[0;34m\u001b[0m\u001b[0m\n\u001b[1;32m     25\u001b[0m \u001b[0;34m\u001b[0m\u001b[0m\n",
      "\u001b[0;32m~/opt/anaconda3/lib/python3.7/site-packages/requests/api.py\u001b[0m in \u001b[0;36mget\u001b[0;34m(url, params, **kwargs)\u001b[0m\n\u001b[1;32m     73\u001b[0m \u001b[0;34m\u001b[0m\u001b[0m\n\u001b[1;32m     74\u001b[0m     \u001b[0mkwargs\u001b[0m\u001b[0;34m.\u001b[0m\u001b[0msetdefault\u001b[0m\u001b[0;34m(\u001b[0m\u001b[0;34m'allow_redirects'\u001b[0m\u001b[0;34m,\u001b[0m \u001b[0;32mTrue\u001b[0m\u001b[0;34m)\u001b[0m\u001b[0;34m\u001b[0m\u001b[0;34m\u001b[0m\u001b[0m\n\u001b[0;32m---> 75\u001b[0;31m     \u001b[0;32mreturn\u001b[0m \u001b[0mrequest\u001b[0m\u001b[0;34m(\u001b[0m\u001b[0;34m'get'\u001b[0m\u001b[0;34m,\u001b[0m \u001b[0murl\u001b[0m\u001b[0;34m,\u001b[0m \u001b[0mparams\u001b[0m\u001b[0;34m=\u001b[0m\u001b[0mparams\u001b[0m\u001b[0;34m,\u001b[0m \u001b[0;34m**\u001b[0m\u001b[0mkwargs\u001b[0m\u001b[0;34m)\u001b[0m\u001b[0;34m\u001b[0m\u001b[0;34m\u001b[0m\u001b[0m\n\u001b[0m\u001b[1;32m     76\u001b[0m \u001b[0;34m\u001b[0m\u001b[0m\n\u001b[1;32m     77\u001b[0m \u001b[0;34m\u001b[0m\u001b[0m\n",
      "\u001b[0;32m~/opt/anaconda3/lib/python3.7/site-packages/requests/api.py\u001b[0m in \u001b[0;36mrequest\u001b[0;34m(method, url, **kwargs)\u001b[0m\n\u001b[1;32m     58\u001b[0m     \u001b[0;31m# cases, and look like a memory leak in others.\u001b[0m\u001b[0;34m\u001b[0m\u001b[0;34m\u001b[0m\u001b[0;34m\u001b[0m\u001b[0m\n\u001b[1;32m     59\u001b[0m     \u001b[0;32mwith\u001b[0m \u001b[0msessions\u001b[0m\u001b[0;34m.\u001b[0m\u001b[0mSession\u001b[0m\u001b[0;34m(\u001b[0m\u001b[0;34m)\u001b[0m \u001b[0;32mas\u001b[0m \u001b[0msession\u001b[0m\u001b[0;34m:\u001b[0m\u001b[0;34m\u001b[0m\u001b[0;34m\u001b[0m\u001b[0m\n\u001b[0;32m---> 60\u001b[0;31m         \u001b[0;32mreturn\u001b[0m \u001b[0msession\u001b[0m\u001b[0;34m.\u001b[0m\u001b[0mrequest\u001b[0m\u001b[0;34m(\u001b[0m\u001b[0mmethod\u001b[0m\u001b[0;34m=\u001b[0m\u001b[0mmethod\u001b[0m\u001b[0;34m,\u001b[0m \u001b[0murl\u001b[0m\u001b[0;34m=\u001b[0m\u001b[0murl\u001b[0m\u001b[0;34m,\u001b[0m \u001b[0;34m**\u001b[0m\u001b[0mkwargs\u001b[0m\u001b[0;34m)\u001b[0m\u001b[0;34m\u001b[0m\u001b[0;34m\u001b[0m\u001b[0m\n\u001b[0m\u001b[1;32m     61\u001b[0m \u001b[0;34m\u001b[0m\u001b[0m\n\u001b[1;32m     62\u001b[0m \u001b[0;34m\u001b[0m\u001b[0m\n",
      "\u001b[0;32m~/opt/anaconda3/lib/python3.7/site-packages/requests/sessions.py\u001b[0m in \u001b[0;36mrequest\u001b[0;34m(self, method, url, params, data, headers, cookies, files, auth, timeout, allow_redirects, proxies, hooks, stream, verify, cert, json)\u001b[0m\n\u001b[1;32m    531\u001b[0m         }\n\u001b[1;32m    532\u001b[0m         \u001b[0msend_kwargs\u001b[0m\u001b[0;34m.\u001b[0m\u001b[0mupdate\u001b[0m\u001b[0;34m(\u001b[0m\u001b[0msettings\u001b[0m\u001b[0;34m)\u001b[0m\u001b[0;34m\u001b[0m\u001b[0;34m\u001b[0m\u001b[0m\n\u001b[0;32m--> 533\u001b[0;31m         \u001b[0mresp\u001b[0m \u001b[0;34m=\u001b[0m \u001b[0mself\u001b[0m\u001b[0;34m.\u001b[0m\u001b[0msend\u001b[0m\u001b[0;34m(\u001b[0m\u001b[0mprep\u001b[0m\u001b[0;34m,\u001b[0m \u001b[0;34m**\u001b[0m\u001b[0msend_kwargs\u001b[0m\u001b[0;34m)\u001b[0m\u001b[0;34m\u001b[0m\u001b[0;34m\u001b[0m\u001b[0m\n\u001b[0m\u001b[1;32m    534\u001b[0m \u001b[0;34m\u001b[0m\u001b[0m\n\u001b[1;32m    535\u001b[0m         \u001b[0;32mreturn\u001b[0m \u001b[0mresp\u001b[0m\u001b[0;34m\u001b[0m\u001b[0;34m\u001b[0m\u001b[0m\n",
      "\u001b[0;32m~/opt/anaconda3/lib/python3.7/site-packages/requests/sessions.py\u001b[0m in \u001b[0;36msend\u001b[0;34m(self, request, **kwargs)\u001b[0m\n\u001b[1;32m    666\u001b[0m \u001b[0;34m\u001b[0m\u001b[0m\n\u001b[1;32m    667\u001b[0m         \u001b[0;31m# Resolve redirects if allowed.\u001b[0m\u001b[0;34m\u001b[0m\u001b[0;34m\u001b[0m\u001b[0;34m\u001b[0m\u001b[0m\n\u001b[0;32m--> 668\u001b[0;31m         \u001b[0mhistory\u001b[0m \u001b[0;34m=\u001b[0m \u001b[0;34m[\u001b[0m\u001b[0mresp\u001b[0m \u001b[0;32mfor\u001b[0m \u001b[0mresp\u001b[0m \u001b[0;32min\u001b[0m \u001b[0mgen\u001b[0m\u001b[0;34m]\u001b[0m \u001b[0;32mif\u001b[0m \u001b[0mallow_redirects\u001b[0m \u001b[0;32melse\u001b[0m \u001b[0;34m[\u001b[0m\u001b[0;34m]\u001b[0m\u001b[0;34m\u001b[0m\u001b[0;34m\u001b[0m\u001b[0m\n\u001b[0m\u001b[1;32m    669\u001b[0m \u001b[0;34m\u001b[0m\u001b[0m\n\u001b[1;32m    670\u001b[0m         \u001b[0;31m# Shuffle things around if there's history.\u001b[0m\u001b[0;34m\u001b[0m\u001b[0;34m\u001b[0m\u001b[0;34m\u001b[0m\u001b[0m\n",
      "\u001b[0;32m~/opt/anaconda3/lib/python3.7/site-packages/requests/sessions.py\u001b[0m in \u001b[0;36m<listcomp>\u001b[0;34m(.0)\u001b[0m\n\u001b[1;32m    666\u001b[0m \u001b[0;34m\u001b[0m\u001b[0m\n\u001b[1;32m    667\u001b[0m         \u001b[0;31m# Resolve redirects if allowed.\u001b[0m\u001b[0;34m\u001b[0m\u001b[0;34m\u001b[0m\u001b[0;34m\u001b[0m\u001b[0m\n\u001b[0;32m--> 668\u001b[0;31m         \u001b[0mhistory\u001b[0m \u001b[0;34m=\u001b[0m \u001b[0;34m[\u001b[0m\u001b[0mresp\u001b[0m \u001b[0;32mfor\u001b[0m \u001b[0mresp\u001b[0m \u001b[0;32min\u001b[0m \u001b[0mgen\u001b[0m\u001b[0;34m]\u001b[0m \u001b[0;32mif\u001b[0m \u001b[0mallow_redirects\u001b[0m \u001b[0;32melse\u001b[0m \u001b[0;34m[\u001b[0m\u001b[0;34m]\u001b[0m\u001b[0;34m\u001b[0m\u001b[0;34m\u001b[0m\u001b[0m\n\u001b[0m\u001b[1;32m    669\u001b[0m \u001b[0;34m\u001b[0m\u001b[0m\n\u001b[1;32m    670\u001b[0m         \u001b[0;31m# Shuffle things around if there's history.\u001b[0m\u001b[0;34m\u001b[0m\u001b[0;34m\u001b[0m\u001b[0;34m\u001b[0m\u001b[0m\n",
      "\u001b[0;32m~/opt/anaconda3/lib/python3.7/site-packages/requests/sessions.py\u001b[0m in \u001b[0;36mresolve_redirects\u001b[0;34m(self, resp, req, stream, timeout, verify, cert, proxies, yield_requests, **adapter_kwargs)\u001b[0m\n\u001b[1;32m    245\u001b[0m                     \u001b[0mproxies\u001b[0m\u001b[0;34m=\u001b[0m\u001b[0mproxies\u001b[0m\u001b[0;34m,\u001b[0m\u001b[0;34m\u001b[0m\u001b[0;34m\u001b[0m\u001b[0m\n\u001b[1;32m    246\u001b[0m                     \u001b[0mallow_redirects\u001b[0m\u001b[0;34m=\u001b[0m\u001b[0;32mFalse\u001b[0m\u001b[0;34m,\u001b[0m\u001b[0;34m\u001b[0m\u001b[0;34m\u001b[0m\u001b[0m\n\u001b[0;32m--> 247\u001b[0;31m                     \u001b[0;34m**\u001b[0m\u001b[0madapter_kwargs\u001b[0m\u001b[0;34m\u001b[0m\u001b[0;34m\u001b[0m\u001b[0m\n\u001b[0m\u001b[1;32m    248\u001b[0m                 )\n\u001b[1;32m    249\u001b[0m \u001b[0;34m\u001b[0m\u001b[0m\n",
      "\u001b[0;32m~/opt/anaconda3/lib/python3.7/site-packages/requests/sessions.py\u001b[0m in \u001b[0;36msend\u001b[0;34m(self, request, **kwargs)\u001b[0m\n\u001b[1;32m    644\u001b[0m \u001b[0;34m\u001b[0m\u001b[0m\n\u001b[1;32m    645\u001b[0m         \u001b[0;31m# Send the request\u001b[0m\u001b[0;34m\u001b[0m\u001b[0;34m\u001b[0m\u001b[0;34m\u001b[0m\u001b[0m\n\u001b[0;32m--> 646\u001b[0;31m         \u001b[0mr\u001b[0m \u001b[0;34m=\u001b[0m \u001b[0madapter\u001b[0m\u001b[0;34m.\u001b[0m\u001b[0msend\u001b[0m\u001b[0;34m(\u001b[0m\u001b[0mrequest\u001b[0m\u001b[0;34m,\u001b[0m \u001b[0;34m**\u001b[0m\u001b[0mkwargs\u001b[0m\u001b[0;34m)\u001b[0m\u001b[0;34m\u001b[0m\u001b[0;34m\u001b[0m\u001b[0m\n\u001b[0m\u001b[1;32m    647\u001b[0m \u001b[0;34m\u001b[0m\u001b[0m\n\u001b[1;32m    648\u001b[0m         \u001b[0;31m# Total elapsed time of the request (approximately)\u001b[0m\u001b[0;34m\u001b[0m\u001b[0;34m\u001b[0m\u001b[0;34m\u001b[0m\u001b[0m\n",
      "\u001b[0;32m~/opt/anaconda3/lib/python3.7/site-packages/requests/adapters.py\u001b[0m in \u001b[0;36msend\u001b[0;34m(self, request, stream, timeout, verify, cert, proxies)\u001b[0m\n\u001b[1;32m    496\u001b[0m \u001b[0;34m\u001b[0m\u001b[0m\n\u001b[1;32m    497\u001b[0m         \u001b[0;32mexcept\u001b[0m \u001b[0;34m(\u001b[0m\u001b[0mProtocolError\u001b[0m\u001b[0;34m,\u001b[0m \u001b[0msocket\u001b[0m\u001b[0;34m.\u001b[0m\u001b[0merror\u001b[0m\u001b[0;34m)\u001b[0m \u001b[0;32mas\u001b[0m \u001b[0merr\u001b[0m\u001b[0;34m:\u001b[0m\u001b[0;34m\u001b[0m\u001b[0;34m\u001b[0m\u001b[0m\n\u001b[0;32m--> 498\u001b[0;31m             \u001b[0;32mraise\u001b[0m \u001b[0mConnectionError\u001b[0m\u001b[0;34m(\u001b[0m\u001b[0merr\u001b[0m\u001b[0;34m,\u001b[0m \u001b[0mrequest\u001b[0m\u001b[0;34m=\u001b[0m\u001b[0mrequest\u001b[0m\u001b[0;34m)\u001b[0m\u001b[0;34m\u001b[0m\u001b[0;34m\u001b[0m\u001b[0m\n\u001b[0m\u001b[1;32m    499\u001b[0m \u001b[0;34m\u001b[0m\u001b[0m\n\u001b[1;32m    500\u001b[0m         \u001b[0;32mexcept\u001b[0m \u001b[0mMaxRetryError\u001b[0m \u001b[0;32mas\u001b[0m \u001b[0me\u001b[0m\u001b[0;34m:\u001b[0m\u001b[0;34m\u001b[0m\u001b[0;34m\u001b[0m\u001b[0m\n",
      "\u001b[0;31mConnectionError\u001b[0m: ('Connection aborted.', RemoteDisconnected('Remote end closed connection without response'))"
     ]
    }
   ],
   "source": [
    "file = \"Data/8_sample_entire.csv\"\n",
    "Playlist_track_lyrics = []\n",
    "i = 0\n",
    "delimiter = ':'\n",
    "lyrics_kickout=[]\n",
    "\n",
    "start = time.time()\n",
    "#genius = lyricsgenius.Genius(\"CLMJDhT2HYCbiXT9grKoh3LZ2hjiCRuvYYxTOj3lARJgM03frK2k739jf9UwDxFs\")\n",
    "\n",
    "with open(file,'r') as csvfile:\n",
    "    musicfile = csv.reader(csvfile,delimiter='|')\n",
    "    next(musicfile) #Skip header row\n",
    "    head = [next(musicfile) for x in range(4500)]\n",
    "    \n",
    "    for line in head:\n",
    "        i+=1\n",
    "        track_uri = line[3]\n",
    "        track_name = SSP.clean(line[4])\n",
    "        artist_name = SSP.clean(line[1])\n",
    "\n",
    "\n",
    "        if track_name == None or artist_name == None:\n",
    "            kickout = {'track_uri':track_uri,'issue': track_name}\n",
    "            lyrics_kickout.append(kickout)\n",
    "            print(i,track_uri,kickout)\n",
    "            continue\n",
    "\n",
    "        song_artist = '/'.join([artist_name,track_name])\n",
    "        song_artist_url = song_artist.replace(' ','_')\n",
    "        link = SSP.get_url(song_artist_url)\n",
    "        \n",
    "        lyrics = SSP.get_lyrics(link)\n",
    "        print(i,True,link)\n",
    "        Playlist_track_lyrics.append({'artist_name':artist_name,'track_uri':track_uri,'track_name':track_name\n",
    "                                  ,'lyrics':lyrics})\n",
    "\n",
    "\n",
    "\n",
    "            \n",
    "\n",
    "\n",
    "\n",
    "end = time.time()\n",
    "duration = ((end - start)/60)"
   ]
  },
  {
   "cell_type": "code",
   "execution_count": 102,
   "metadata": {},
   "outputs": [
    {
     "data": {
      "text/plain": [
       "3.8500783165295918"
      ]
     },
     "execution_count": 102,
     "metadata": {},
     "output_type": "execute_result"
    }
   ],
   "source": [
    "duration"
   ]
  },
  {
   "cell_type": "code",
   "execution_count": 108,
   "metadata": {},
   "outputs": [
    {
     "data": {
      "text/plain": [
       "artist_name    46\n",
       "track_uri      46\n",
       "track_name     46\n",
       "lyrics         46\n",
       "dtype: int64"
      ]
     },
     "execution_count": 108,
     "metadata": {},
     "output_type": "execute_result"
    }
   ],
   "source": [
    "df = pd.DataFrame(Playlist_track_lyrics)\n",
    "df.dropna().count()\n",
    "#df.to_csv('Playlist_track_lyrics.csv',sep=':',index=False)"
   ]
  },
  {
   "cell_type": "code",
   "execution_count": 99,
   "metadata": {},
   "outputs": [
    {
     "data": {
      "text/plain": [
       "3.8500783165295918"
      ]
     },
     "execution_count": 99,
     "metadata": {},
     "output_type": "execute_result"
    }
   ],
   "source": [
    "duration"
   ]
  },
  {
   "cell_type": "code",
   "execution_count": 100,
   "metadata": {},
   "outputs": [
    {
     "data": {
      "text/plain": [
       "'adfadfadfaf'"
      ]
     },
     "execution_count": 100,
     "metadata": {},
     "output_type": "execute_result"
    }
   ],
   "source": [
    "a = 'adfadfadfaf'\n",
    "a = a.split(':')\n",
    "a[0]"
   ]
  },
  {
   "cell_type": "code",
   "execution_count": 78,
   "metadata": {},
   "outputs": [
    {
     "data": {
      "text/plain": [
       "str"
      ]
     },
     "execution_count": 78,
     "metadata": {},
     "output_type": "execute_result"
    }
   ],
   "source": [
    "type(string.punctuation)"
   ]
  },
  {
   "cell_type": "code",
   "execution_count": null,
   "metadata": {},
   "outputs": [],
   "source": [
    "b = pd"
   ]
  }
 ],
 "metadata": {
  "colab": {
   "collapsed_sections": [],
   "name": "genius_spotify_test.ipynb",
   "provenance": []
  },
  "kernelspec": {
   "display_name": "Python 3",
   "language": "python",
   "name": "python3"
  },
  "language_info": {
   "codemirror_mode": {
    "name": "ipython",
    "version": 3
   },
   "file_extension": ".py",
   "mimetype": "text/x-python",
   "name": "python",
   "nbconvert_exporter": "python",
   "pygments_lexer": "ipython3",
   "version": "3.7.4"
  }
 },
 "nbformat": 4,
 "nbformat_minor": 1
}
