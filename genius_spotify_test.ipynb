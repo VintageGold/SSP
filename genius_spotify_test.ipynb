{
 "cells": [
  {
   "cell_type": "code",
   "execution_count": 107,
   "metadata": {
    "colab": {
     "base_uri": "https://localhost:8080/",
     "height": 156
    },
    "colab_type": "code",
    "id": "VldzMZUDUReN",
    "outputId": "ab2d434b-ad9e-4a2b-8324-71893c471d4a"
   },
   "outputs": [
    {
     "name": "stdout",
     "output_type": "stream",
     "text": [
      "Requirement already satisfied: lyricsgenius in /usr/local/lib/python3.6/dist-packages (1.8.2)\n",
      "Requirement already satisfied: beautifulsoup4==4.6.0 in /usr/local/lib/python3.6/dist-packages (from lyricsgenius) (4.6.0)\n",
      "Requirement already satisfied: requests>=2.20.0 in /usr/local/lib/python3.6/dist-packages (from lyricsgenius) (2.21.0)\n",
      "Requirement already satisfied: idna<2.9,>=2.5 in /usr/local/lib/python3.6/dist-packages (from requests>=2.20.0->lyricsgenius) (2.8)\n",
      "Requirement already satisfied: chardet<3.1.0,>=3.0.2 in /usr/local/lib/python3.6/dist-packages (from requests>=2.20.0->lyricsgenius) (3.0.4)\n",
      "Requirement already satisfied: certifi>=2017.4.17 in /usr/local/lib/python3.6/dist-packages (from requests>=2.20.0->lyricsgenius) (2019.11.28)\n",
      "Requirement already satisfied: urllib3<1.25,>=1.21.1 in /usr/local/lib/python3.6/dist-packages (from requests>=2.20.0->lyricsgenius) (1.24.3)\n"
     ]
    }
   ],
   "source": [
    "!pip install lyricsgenius"
   ]
  },
  {
   "cell_type": "code",
   "execution_count": 1,
   "metadata": {
    "colab": {},
    "colab_type": "code",
    "id": "zafXzoFZUEMr"
   },
   "outputs": [],
   "source": [
    "import lyricsgenius\n",
    "import string"
   ]
  },
  {
   "cell_type": "code",
   "execution_count": 2,
   "metadata": {
    "colab": {},
    "colab_type": "code",
    "id": "Cwe7_Ww3UEMy"
   },
   "outputs": [],
   "source": [
    "def _removeNonAscii(s):\n",
    "    return \"\".join(i for i in s if ord(i)<128)\n"
   ]
  },
  {
   "cell_type": "code",
   "execution_count": 4,
   "metadata": {
    "colab": {
     "base_uri": "https://localhost:8080/",
     "height": 51
    },
    "colab_type": "code",
    "id": "AIOzhYB7UEM2",
    "outputId": "c8f182f9-5062-480e-c30c-1164efaeba0f"
   },
   "outputs": [
    {
     "name": "stdout",
     "output_type": "stream",
     "text": [
      "Searching for \"Magpie\" by Caribou...\n",
      "Done.\n"
     ]
    }
   ],
   "source": [
    "headers = [\"artist\",\"song\",\"lyrics\"]\n",
    "spotify_list = []\n",
    "rapgenius_list = []\n",
    "sfile = \"AdamSpotify.csv\"\n",
    "fn = \"song.txt\"\n",
    "lyrics = 0\n",
    "counter = 0\n",
    "delimiter = '|'\n",
    "\n",
    "def get_lyrics(song,artist):\n",
    "    genius = lyricsgenius.Genius(\"CLMJDhT2HYCbiXT9grKoh3LZ2hjiCRuvYYxTOj3lARJgM03frK2k739jf9UwDxFs\",\n",
    "remove_section_headers=True\n",
    "    )\n",
    "    #Make all lines one string\n",
    "    lyrics =str(genius.search_song(song,artist,get_full_info=False).lyrics.splitlines())\n",
    "    #Remove punctuation\n",
    "    lyrics = _removeNonAscii(lyrics.translate(str.maketrans('','', string.punctuation)))\n",
    "    return lyrics\n",
    "\n",
    "with open(sfile,'r') as spotifyfile:\n",
    "    next(spotifyfile) #Skip header row\n",
    "    next(spotifyfile)\n",
    "    next(spotifyfile)\n",
    "    head = [next(spotifyfile) for x in range(1)]\n",
    "\n",
    "with open(fn, \"w+\") as outfile:\n",
    "    for line in head:\n",
    "        current = line.split(';')\n",
    "        try:\n",
    "            lyrics = get_lyrics(current[0],current[1])\n",
    "            outfile.write(current[0]+delimiter)\n",
    "            outfile.write(current[1]+delimiter)\n",
    "            outfile.write(lyrics)\n",
    "            outfile.write('\\n')\n",
    "        except:\n",
    "            continue\n",
    "            counter += 1"
   ]
  },
  {
   "cell_type": "code",
   "execution_count": 5,
   "metadata": {
    "colab": {
     "base_uri": "https://localhost:8080/",
     "height": 54
    },
    "colab_type": "code",
    "id": "lPsNuwA4eukg",
    "outputId": "692c34fc-77a0-4bdb-d082-1ef93382f4d0"
   },
   "outputs": [
    {
     "name": "stdout",
     "output_type": "stream",
     "text": [
      "Magpie Caribou Its been five years since youve been gone and now Oh how the time has passedu2005meu2005by But sometimes itsu2005as though youre with me now Iu2005think about you all the time  Generally all shes gots so down Somethings got to give to turn things round Generally all shes gots so down  And now the worlds been catching up to you And you have gone before your time So much has changed so much is new and now And yet its still so high to climb  Generally all shes gots so down Somethings got to give to turn things round Generally all shes gots so down   Generally all shes gots so down Somethings got to give to turn things round Generally all shes gots so down\n"
     ]
    }
   ],
   "source": [
    "print(current[0],current[1],lyrics)"
   ]
  },
  {
   "cell_type": "code",
   "execution_count": 0,
   "metadata": {
    "colab": {},
    "colab_type": "code",
    "id": "dro25f2zHHnj"
   },
   "outputs": [],
   "source": []
  }
 ],
 "metadata": {
  "colab": {
   "collapsed_sections": [],
   "name": "genius_spotify_test.ipynb",
   "provenance": []
  },
  "kernelspec": {
   "display_name": "Python 3",
   "language": "python",
   "name": "python3"
  },
  "language_info": {
   "codemirror_mode": {
    "name": "ipython",
    "version": 3
   },
   "file_extension": ".py",
   "mimetype": "text/x-python",
   "name": "python",
   "nbconvert_exporter": "python",
   "pygments_lexer": "ipython3",
   "version": "3.7.4"
  }
 },
 "nbformat": 4,
 "nbformat_minor": 1
}
