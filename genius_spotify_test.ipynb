{
 "cells": [
  {
   "cell_type": "code",
   "execution_count": 1,
   "metadata": {},
   "outputs": [],
   "source": [
    "import lyricsgenius\n",
    "import string"
   ]
  },
  {
   "cell_type": "code",
   "execution_count": 2,
   "metadata": {},
   "outputs": [],
   "source": [
    "def _removeNonAscii(s): \n",
    "    return \"\".join(i for i in s if ord(i)<128)\n"
   ]
  },
  {
   "cell_type": "code",
   "execution_count": null,
   "metadata": {},
   "outputs": [
    {
     "name": "stdout",
     "output_type": "stream",
     "text": [
      "Searching for \"﻿title\" by artist...\n",
      "Done.\n",
      "Searching for \"\"The Axis\"\" by \"Thee Oh Sees\"...\n",
      "Done.\n",
      "Searching for \"Ravi\" by Caribou...\n",
      "Done.\n",
      "Searching for \"Magpie\" by Caribou...\n",
      "Done.\n",
      "Searching for \"Home\" by Caribou...\n",
      "Done.\n",
      "Searching for \"\"Sunny's Time\"\" by Caribou...\n",
      "Done.\n",
      "Searching for \"Sister\" by Caribou...\n",
      "Done.\n",
      "Searching for \"\"Cloud Song\"\" by Caribou...\n",
      "Done.\n",
      "Searching for \"\"Poor Moon - Bonus Track\"\" by \"Canned Heat\"...\n",
      "Done.\n",
      "Searching for \"\"Who Loves The Sun - 2015 Remastered\"\" by \"The Velvet Underground\"...\n",
      "No results found for: '\"Who Loves The Sun - 2015 Remastered\" \"The Velvet Underground\"'\n",
      "Searching for \"\"Dark Star - Single Version\" by  2001 Remaster\"...\n",
      "Done.\n",
      "Searching for \"\"Black Peter - 2013 Remaster\"\" by \"Grateful Dead\"...\n",
      "Done.\n",
      "Searching for \"むこう岸が視る夢\" by toe...\n",
      "No results found for: 'むこう岸が視る夢 toe'\n",
      "Searching for \"Secret\" by 1AM...\n",
      "Specified song does not contain lyrics. Rejecting.\n",
      "Searching for \"\"Late Night Project\"\" by 1AM...\n",
      "No results found for: '\"Late Night Project\" 1AM'\n",
      "Searching for \"\"Feels so Good\"\" by \"The Golden Guns\"...\n",
      "Done.\n",
      "Searching for \"\"Fahrenheit Fair Enough\"\" by \"Telefon Tel Aviv\"...\n",
      "No results found for: '\"Fahrenheit Fair Enough\" \"Telefon Tel Aviv\"'\n",
      "Searching for \"\"Come When You Call\"\" by \"TV Girl\"...\n",
      "Searching for \"Artangels\" by Grimes...\n",
      "Done.\n",
      "Searching for \"Fireworks\" by \"Animal Collective\"...\n",
      "Done.\n",
      "Searching for \"\"Everything You Do Is A Balloon\"\" by \"Boards of Canada\"...\n"
     ]
    }
   ],
   "source": [
    "headers = [\"artist\",\"song\",\"lyrics\"]\n",
    "spotify_list = []\n",
    "rapgenius_list = []\n",
    "sfile = open(\"AdamSpotify.csv\")\n",
    "fn = \"dontstop.txt\"\n",
    "lyrics = 0\n",
    "counter = 0\n",
    "delimiter = '|'\n",
    "\n",
    "def get_lyrics(song,artist):\n",
    "    genius = lyricsgenius.Genius(\n",
    "        \"CLMJDhT2HYCbiXT9grKoh3LZ2hjiCRuvYYxTOj3lARJgM03frK2k739jf9UwDxFs\",\n",
    "        remove_section_headers=True\n",
    "    )\n",
    "  #Make all lines one string\n",
    "    lyrics =genius.search_song(song,artist,get_full_info=True).lyrics.splitlines()#Come back to get_full_info\n",
    "  #Remove punctuation\n",
    "    lyrics = _removeNonAscii(lyrics.translate(str.maketrans('','', string.punctuation)))\n",
    "    return lyrics\n",
    "with open(fn, \"w+\") as outfile:\n",
    "    while counter < 11:\n",
    "        for line in sfile:\n",
    "            current = line.split(';')\n",
    "            try:\n",
    "                lyrics = get_lyrics(current[0],current[1])\n",
    "                outfile.write(current[0]+delimiter)\n",
    "                outfile.write(current[1]+delimiter)\n",
    "                outfile.write(lyrics)\n",
    "                outfile.write('\\n')\n",
    "            except:\n",
    "                continue\n",
    "            counter += 1\n",
    "            break"
   ]
  },
  {
   "cell_type": "code",
   "execution_count": null,
   "metadata": {},
   "outputs": [],
   "source": []
  },
  {
   "cell_type": "code",
   "execution_count": null,
   "metadata": {},
   "outputs": [],
   "source": []
  }
 ],
 "metadata": {
  "kernelspec": {
   "display_name": "Python 3",
   "language": "python",
   "name": "python3"
  },
  "language_info": {
   "codemirror_mode": {
    "name": "ipython",
    "version": 3
   },
   "file_extension": ".py",
   "mimetype": "text/x-python",
   "name": "python",
   "nbconvert_exporter": "python",
   "pygments_lexer": "ipython3",
   "version": "3.7.4"
  }
 },
 "nbformat": 4,
 "nbformat_minor": 2
}
