{
 "cells": [
  {
   "cell_type": "code",
   "execution_count": 47,
   "metadata": {},
   "outputs": [],
   "source": [
    "import spotipy\n",
    "import spotipy.util as util\n",
    "import requests\n",
    "import time #audio analysis\n",
    "import sys\n",
    "from spotipy.oauth2 import SpotifyClientCredentials\n",
    "import pandas as pd\n",
    "import csv"
   ]
  },
  {
   "cell_type": "code",
   "execution_count": 48,
   "metadata": {},
   "outputs": [],
   "source": [
    "cid = '049ade7215e54c63a2b628f3784dc407'\n",
    "secret = '1ad94ff2aaec4184b8ba80416ee09bc6'\n",
    "redirect_uri = 'http://google.com/'\n",
    "username = 'xxx'"
   ]
  },
  {
   "cell_type": "code",
   "execution_count": 49,
   "metadata": {},
   "outputs": [],
   "source": [
    "scope = 'user-library-read'\n",
    "token = util.prompt_for_user_token(username, scope, client_id=cid, client_secret=secret, redirect_uri=redirect_uri)\n",
    "\n",
    "if token:\n",
    "    sp = spotipy.Spotify(auth=token)\n",
    "else:\n",
    "    print(\"Can't get token for\", username)"
   ]
  },
  {
   "cell_type": "code",
   "execution_count": 50,
   "metadata": {},
   "outputs": [],
   "source": [
    "#Files\n",
    "playlist_file = 'Data/playlist_datafile.txt'\n",
    "\n",
    "#Master List\n",
    "all_playlists =[]\n"
   ]
  },
  {
   "cell_type": "code",
   "execution_count": 51,
   "metadata": {},
   "outputs": [],
   "source": [
    "def get_playlist_tracks(nexturl):\n",
    "    #Get playlists\n",
    "    try:\n",
    "        resp = requests.get(url=nexturl,\n",
    "                            headers={'Authorization': 'Bearer ' + token})\n",
    "        resp.raise_for_status()\n",
    "    except requests.exceptions.HTTPError as err:\n",
    "        print(err)\n",
    "    \n",
    "    #Generate json\n",
    "    response = resp.json()\n",
    "    \n",
    "        \n",
    "    #Get limit to set range for loop\n",
    "    response_limit = response['limit']-1\n",
    "    \n",
    "    for x in range(response_limit):\n",
    "        try:\n",
    "            uri = response['items'][x]['track']['uri']\n",
    "            title = response['items'][x]['track']['name']\n",
    "            all_playlists.append({'uri':uri,'title':title})\n",
    "        \n",
    "        except IndexError as error:\n",
    "            continue #Natural part of the process. The length of response is sometimes less than limit\n",
    "            \n",
    "    try:    \n",
    "        if (nexturl is not None):#is not none\n",
    "            get_playlist_tracks(response['next'])\n",
    "        else:\n",
    "            return\n",
    "    except:\n",
    "        return\n",
    "\n",
    "    "
   ]
  },
  {
   "cell_type": "code",
   "execution_count": 52,
   "metadata": {},
   "outputs": [],
   "source": [
    "#Read file for playlist ID\n",
    "with open(playlist_file) as csvfile:\n",
    "    playlist_reader = csv.reader(csvfile,delimiter=':')\n",
    "    for row in playlist_reader:\n",
    "        playlist_id_lookup = row[2].strip()\n",
    "        get_playlist_tracks('https://api.spotify.com/v1/playlists/{p}/tracks'.format(p=playlist_id_lookup))\n",
    "    "
   ]
  },
  {
   "cell_type": "code",
   "execution_count": 53,
   "metadata": {},
   "outputs": [
    {
     "data": {
      "text/plain": [
       "'\\nfor index,x in enumerate(all_playlists):\\n    print(index,x)\\n    for key,value in x.items():\\n        if value is None:\\n            print(key,value)\\n'"
      ]
     },
     "execution_count": 53,
     "metadata": {},
     "output_type": "execute_result"
    }
   ],
   "source": [
    "'''\n",
    "for index,x in enumerate(all_playlists):\n",
    "    print(index,x)\n",
    "    for key,value in x.items():\n",
    "        if value is None:\n",
    "            print(key,value)\n",
    "'''\n"
   ]
  },
  {
   "cell_type": "code",
   "execution_count": 54,
   "metadata": {},
   "outputs": [
    {
     "data": {
      "text/html": [
       "<div>\n",
       "<style scoped>\n",
       "    .dataframe tbody tr th:only-of-type {\n",
       "        vertical-align: middle;\n",
       "    }\n",
       "\n",
       "    .dataframe tbody tr th {\n",
       "        vertical-align: top;\n",
       "    }\n",
       "\n",
       "    .dataframe thead th {\n",
       "        text-align: right;\n",
       "    }\n",
       "</style>\n",
       "<table border=\"1\" class=\"dataframe\">\n",
       "  <thead>\n",
       "    <tr style=\"text-align: right;\">\n",
       "      <th></th>\n",
       "      <th>uri</th>\n",
       "      <th>title</th>\n",
       "    </tr>\n",
       "  </thead>\n",
       "  <tbody>\n",
       "    <tr>\n",
       "      <td>0</td>\n",
       "      <td>spotify:track:62ljuuXo0zrcrtJnnOhfxT</td>\n",
       "      <td>Dear April (Side A - Acoustic)</td>\n",
       "    </tr>\n",
       "    <tr>\n",
       "      <td>1</td>\n",
       "      <td>spotify:track:5NRFBtaNmTV0F9NaPwhOL2</td>\n",
       "      <td>Still Here</td>\n",
       "    </tr>\n",
       "    <tr>\n",
       "      <td>2</td>\n",
       "      <td>spotify:track:2ca5xMtPpmULDE6aG3VuEn</td>\n",
       "      <td>Tempo</td>\n",
       "    </tr>\n",
       "    <tr>\n",
       "      <td>3</td>\n",
       "      <td>spotify:track:7kfl2DwtW29sYrUGRH5B2Y</td>\n",
       "      <td>Memphis</td>\n",
       "    </tr>\n",
       "    <tr>\n",
       "      <td>4</td>\n",
       "      <td>spotify:track:3sp4CJbR97KYUnyxup7Zzn</td>\n",
       "      <td>SOLDIERS (feat. Sampha)</td>\n",
       "    </tr>\n",
       "    <tr>\n",
       "      <td>...</td>\n",
       "      <td>...</td>\n",
       "      <td>...</td>\n",
       "    </tr>\n",
       "    <tr>\n",
       "      <td>3168</td>\n",
       "      <td>spotify:track:1zlbAmFp6m9aWu3x7mTlAC</td>\n",
       "      <td>OCME</td>\n",
       "    </tr>\n",
       "    <tr>\n",
       "      <td>3169</td>\n",
       "      <td>spotify:track:5RCQFKVz8F2LwpWi2vHFOl</td>\n",
       "      <td>The Peloton</td>\n",
       "    </tr>\n",
       "    <tr>\n",
       "      <td>3170</td>\n",
       "      <td>spotify:track:5Npb23dH7Ky7oJJshW43Zy</td>\n",
       "      <td>Reed Clouds</td>\n",
       "    </tr>\n",
       "    <tr>\n",
       "      <td>3171</td>\n",
       "      <td>spotify:track:4QN5BM506dAyQb8zLPvCcT</td>\n",
       "      <td>The Breakaway</td>\n",
       "    </tr>\n",
       "    <tr>\n",
       "      <td>3172</td>\n",
       "      <td>spotify:track:5IaSMARqMHRNydcXkEY3Tu</td>\n",
       "      <td>Training</td>\n",
       "    </tr>\n",
       "  </tbody>\n",
       "</table>\n",
       "<p>3173 rows × 2 columns</p>\n",
       "</div>"
      ],
      "text/plain": [
       "                                       uri                           title\n",
       "0     spotify:track:62ljuuXo0zrcrtJnnOhfxT  Dear April (Side A - Acoustic)\n",
       "1     spotify:track:5NRFBtaNmTV0F9NaPwhOL2                      Still Here\n",
       "2     spotify:track:2ca5xMtPpmULDE6aG3VuEn                           Tempo\n",
       "3     spotify:track:7kfl2DwtW29sYrUGRH5B2Y                         Memphis\n",
       "4     spotify:track:3sp4CJbR97KYUnyxup7Zzn         SOLDIERS (feat. Sampha)\n",
       "...                                    ...                             ...\n",
       "3168  spotify:track:1zlbAmFp6m9aWu3x7mTlAC                            OCME\n",
       "3169  spotify:track:5RCQFKVz8F2LwpWi2vHFOl                     The Peloton\n",
       "3170  spotify:track:5Npb23dH7Ky7oJJshW43Zy                     Reed Clouds\n",
       "3171  spotify:track:4QN5BM506dAyQb8zLPvCcT                   The Breakaway\n",
       "3172  spotify:track:5IaSMARqMHRNydcXkEY3Tu                        Training\n",
       "\n",
       "[3173 rows x 2 columns]"
      ]
     },
     "execution_count": 54,
     "metadata": {},
     "output_type": "execute_result"
    }
   ],
   "source": [
    "pd.DataFrame(all_playlists)"
   ]
  },
  {
   "cell_type": "code",
   "execution_count": null,
   "metadata": {},
   "outputs": [],
   "source": []
  }
 ],
 "metadata": {
  "kernelspec": {
   "display_name": "Python 3",
   "language": "python",
   "name": "python3"
  },
  "language_info": {
   "codemirror_mode": {
    "name": "ipython",
    "version": 3
   },
   "file_extension": ".py",
   "mimetype": "text/x-python",
   "name": "python",
   "nbconvert_exporter": "python",
   "pygments_lexer": "ipython3",
   "version": "3.7.4"
  }
 },
 "nbformat": 4,
 "nbformat_minor": 2
}
